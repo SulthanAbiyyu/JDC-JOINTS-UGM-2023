{
 "cells": [
  {
   "cell_type": "code",
   "execution_count": 2,
   "metadata": {},
   "outputs": [],
   "source": [
    "from tqdm.auto import tqdm\n",
    "import numpy as np\n",
    "import pandas as pd\n",
    "import matplotlib.pyplot as plt\n",
    "import seaborn as sns\n",
    "\n",
    "import warnings\n",
    "warnings.filterwarnings('ignore')\n",
    "\n",
    "\n",
    "tqdm.pandas()"
   ]
  },
  {
   "cell_type": "code",
   "execution_count": 3,
   "metadata": {},
   "outputs": [
    {
     "data": {
      "text/html": [
       "<div>\n",
       "<style scoped>\n",
       "    .dataframe tbody tr th:only-of-type {\n",
       "        vertical-align: middle;\n",
       "    }\n",
       "\n",
       "    .dataframe tbody tr th {\n",
       "        vertical-align: top;\n",
       "    }\n",
       "\n",
       "    .dataframe thead th {\n",
       "        text-align: right;\n",
       "    }\n",
       "</style>\n",
       "<table border=\"1\" class=\"dataframe\">\n",
       "  <thead>\n",
       "    <tr style=\"text-align: right;\">\n",
       "      <th></th>\n",
       "      <th>floors_before_eq (total)</th>\n",
       "      <th>old_building</th>\n",
       "      <th>plinth_area (ft^2)</th>\n",
       "      <th>height_before_eq (ft)</th>\n",
       "      <th>land_surface_condition</th>\n",
       "      <th>type_of_foundation</th>\n",
       "      <th>type_of_roof</th>\n",
       "      <th>type_of_ground_floor</th>\n",
       "      <th>type_of_other_floor</th>\n",
       "      <th>position</th>\n",
       "      <th>...</th>\n",
       "      <th>type_of_reinforcement_concrete</th>\n",
       "      <th>residential_type</th>\n",
       "      <th>no_family_residing</th>\n",
       "      <th>public_place_type</th>\n",
       "      <th>industrial_use_type</th>\n",
       "      <th>govermental_use_type</th>\n",
       "      <th>flexible_superstructure</th>\n",
       "      <th>wall_binding</th>\n",
       "      <th>wall_material</th>\n",
       "      <th>damage_grade</th>\n",
       "    </tr>\n",
       "  </thead>\n",
       "  <tbody>\n",
       "    <tr>\n",
       "      <th>0</th>\n",
       "      <td>2</td>\n",
       "      <td>1.0</td>\n",
       "      <td>17.0688</td>\n",
       "      <td>22.0</td>\n",
       "      <td>Flat</td>\n",
       "      <td>bamboo or timber</td>\n",
       "      <td>bamboo/timber light roof</td>\n",
       "      <td>clay</td>\n",
       "      <td>timber/bamboo-mud</td>\n",
       "      <td>Not attached</td>\n",
       "      <td>...</td>\n",
       "      <td>No reinforcement concrete</td>\n",
       "      <td>Non-residential</td>\n",
       "      <td>1.0</td>\n",
       "      <td>Non-public</td>\n",
       "      <td>Non-industrial</td>\n",
       "      <td>Non-govermental</td>\n",
       "      <td>unavailable</td>\n",
       "      <td>Unknown/not stated</td>\n",
       "      <td>Unknown/not stated</td>\n",
       "      <td>1.0</td>\n",
       "    </tr>\n",
       "    <tr>\n",
       "      <th>1</th>\n",
       "      <td>3</td>\n",
       "      <td>3.0</td>\n",
       "      <td>300.2280</td>\n",
       "      <td>18.0</td>\n",
       "      <td>Flat</td>\n",
       "      <td>clay sand mixed mortar-stone/brick</td>\n",
       "      <td>wood light roof or bamboo heavy roof</td>\n",
       "      <td>clay</td>\n",
       "      <td>timber/bamboo-mud</td>\n",
       "      <td>Not attached</td>\n",
       "      <td>...</td>\n",
       "      <td>No reinforcement concrete</td>\n",
       "      <td>Non-residential</td>\n",
       "      <td>1.0</td>\n",
       "      <td>Non-public</td>\n",
       "      <td>Non-industrial</td>\n",
       "      <td>Non-govermental</td>\n",
       "      <td>unavailable</td>\n",
       "      <td>Mud + Mortar,Clay</td>\n",
       "      <td>Stone Bricks</td>\n",
       "      <td>5.0</td>\n",
       "    </tr>\n",
       "    <tr>\n",
       "      <th>3</th>\n",
       "      <td>2</td>\n",
       "      <td>18.0</td>\n",
       "      <td>56.3880</td>\n",
       "      <td>15.0</td>\n",
       "      <td>Flat</td>\n",
       "      <td>clay sand mixed mortar-stone/brick</td>\n",
       "      <td>wood light roof or bamboo light roof</td>\n",
       "      <td>clay</td>\n",
       "      <td>timber/bamboo-mud</td>\n",
       "      <td>Not attached</td>\n",
       "      <td>...</td>\n",
       "      <td>No reinforcement concrete</td>\n",
       "      <td>Non-residential</td>\n",
       "      <td>1.0</td>\n",
       "      <td>Non-public</td>\n",
       "      <td>Non-industrial</td>\n",
       "      <td>Non-govermental</td>\n",
       "      <td>unavailable</td>\n",
       "      <td>Mud + Mortar,Clay</td>\n",
       "      <td>Stone Bricks</td>\n",
       "      <td>4.0</td>\n",
       "    </tr>\n",
       "    <tr>\n",
       "      <th>4</th>\n",
       "      <td>2</td>\n",
       "      <td>22.0</td>\n",
       "      <td>27.4320</td>\n",
       "      <td>17.0</td>\n",
       "      <td>Flat</td>\n",
       "      <td>clay sand mixed mortar-stone/brick</td>\n",
       "      <td>bamboo or timber light roof</td>\n",
       "      <td>clay</td>\n",
       "      <td>timber/bamboo-mud</td>\n",
       "      <td>Not attached</td>\n",
       "      <td>...</td>\n",
       "      <td>No reinforcement concrete</td>\n",
       "      <td>Non-residential</td>\n",
       "      <td>1.0</td>\n",
       "      <td>Non-public</td>\n",
       "      <td>Non-industrial</td>\n",
       "      <td>Non-govermental</td>\n",
       "      <td>unavailable</td>\n",
       "      <td>Mud + Mortar,Clay</td>\n",
       "      <td>Stone Bricks</td>\n",
       "      <td>1.0</td>\n",
       "    </tr>\n",
       "    <tr>\n",
       "      <th>7</th>\n",
       "      <td>2</td>\n",
       "      <td>40.0</td>\n",
       "      <td>153.6192</td>\n",
       "      <td>14.0</td>\n",
       "      <td>Flat</td>\n",
       "      <td>clay mortar-stone/brick</td>\n",
       "      <td>bamboo/timber light roof</td>\n",
       "      <td>clay</td>\n",
       "      <td>timber/bamboo-mud</td>\n",
       "      <td>Not attached</td>\n",
       "      <td>...</td>\n",
       "      <td>No reinforcement concrete</td>\n",
       "      <td>Non-residential</td>\n",
       "      <td>1.0</td>\n",
       "      <td>Non-public</td>\n",
       "      <td>Non-industrial</td>\n",
       "      <td>Non-govermental</td>\n",
       "      <td>unavailable</td>\n",
       "      <td>Mud + Mortar,Clay</td>\n",
       "      <td>Stone Bricks</td>\n",
       "      <td>4.0</td>\n",
       "    </tr>\n",
       "  </tbody>\n",
       "</table>\n",
       "<p>5 rows × 24 columns</p>\n",
       "</div>"
      ],
      "text/plain": [
       "   floors_before_eq (total)  old_building  plinth_area (ft^2)  \\\n",
       "0                         2           1.0             17.0688   \n",
       "1                         3           3.0            300.2280   \n",
       "3                         2          18.0             56.3880   \n",
       "4                         2          22.0             27.4320   \n",
       "7                         2          40.0            153.6192   \n",
       "\n",
       "   height_before_eq (ft) land_surface_condition  \\\n",
       "0                   22.0                   Flat   \n",
       "1                   18.0                   Flat   \n",
       "3                   15.0                   Flat   \n",
       "4                   17.0                   Flat   \n",
       "7                   14.0                   Flat   \n",
       "\n",
       "                   type_of_foundation                          type_of_roof  \\\n",
       "0                    bamboo or timber              bamboo/timber light roof   \n",
       "1  clay sand mixed mortar-stone/brick  wood light roof or bamboo heavy roof   \n",
       "3  clay sand mixed mortar-stone/brick  wood light roof or bamboo light roof   \n",
       "4  clay sand mixed mortar-stone/brick           bamboo or timber light roof   \n",
       "7             clay mortar-stone/brick              bamboo/timber light roof   \n",
       "\n",
       "  type_of_ground_floor type_of_other_floor      position  ...  \\\n",
       "0                 clay   timber/bamboo-mud  Not attached  ...   \n",
       "1                 clay   timber/bamboo-mud  Not attached  ...   \n",
       "3                 clay   timber/bamboo-mud  Not attached  ...   \n",
       "4                 clay   timber/bamboo-mud  Not attached  ...   \n",
       "7                 clay   timber/bamboo-mud  Not attached  ...   \n",
       "\n",
       "  type_of_reinforcement_concrete residential_type no_family_residing  \\\n",
       "0      No reinforcement concrete  Non-residential                1.0   \n",
       "1      No reinforcement concrete  Non-residential                1.0   \n",
       "3      No reinforcement concrete  Non-residential                1.0   \n",
       "4      No reinforcement concrete  Non-residential                1.0   \n",
       "7      No reinforcement concrete  Non-residential                1.0   \n",
       "\n",
       "   public_place_type industrial_use_type govermental_use_type  \\\n",
       "0         Non-public      Non-industrial      Non-govermental   \n",
       "1         Non-public      Non-industrial      Non-govermental   \n",
       "3         Non-public      Non-industrial      Non-govermental   \n",
       "4         Non-public      Non-industrial      Non-govermental   \n",
       "7         Non-public      Non-industrial      Non-govermental   \n",
       "\n",
       "   flexible_superstructure        wall_binding       wall_material  \\\n",
       "0              unavailable  Unknown/not stated  Unknown/not stated   \n",
       "1              unavailable   Mud + Mortar,Clay        Stone Bricks   \n",
       "3              unavailable   Mud + Mortar,Clay        Stone Bricks   \n",
       "4              unavailable   Mud + Mortar,Clay        Stone Bricks   \n",
       "7              unavailable   Mud + Mortar,Clay        Stone Bricks   \n",
       "\n",
       "  damage_grade  \n",
       "0          1.0  \n",
       "1          5.0  \n",
       "3          4.0  \n",
       "4          1.0  \n",
       "7          4.0  \n",
       "\n",
       "[5 rows x 24 columns]"
      ]
     },
     "execution_count": 3,
     "metadata": {},
     "output_type": "execute_result"
    }
   ],
   "source": [
    "train = pd.read_csv(\"../../dataset/processed/cleanDataset.csv\", index_col=0)\n",
    "test = pd.read_csv(\"../../dataset/processed/cleanTest.csv\", index_col=0)\n",
    "\n",
    "train.head()"
   ]
  },
  {
   "cell_type": "code",
   "execution_count": 4,
   "metadata": {},
   "outputs": [],
   "source": [
    "dict_type_of_roof = {\n",
    "    \"bamboo/timber-heavy roof\": \"bamboo/timber heavy roof\",\n",
    "    \"bamboo or timber light roof\": \"bamboo/timber-light roof\",\n",
    "    \"bamboo/timber light roof \": \"bamboo/timber-light roof\",\n",
    "    \"bamboo or timber heavy roof\": \"bamboo/timber heavy roof\",\n",
    "    \"bamboo/timber light roof\": \"bamboo/timber-light roof\",\n",
    "    \"reinforced brick concrete/rcc/rbc\": \"reinforced cement concrete/rb/rbc\"\n",
    "}\n",
    "\n",
    "train[\"type_of_roof\"].replace(dict_type_of_roof, inplace=True)\n",
    "test[\"type_of_roof\"].replace(dict_type_of_roof, inplace=True)"
   ]
  },
  {
   "cell_type": "code",
   "execution_count": 5,
   "metadata": {},
   "outputs": [
    {
     "data": {
      "text/plain": [
       "bamboo/timber-light roof                139695\n",
       "wood light roof or bamboo heavy roof     70095\n",
       "wood light roof or bamboo light roof     59880\n",
       "reinforced cement concrete/rb/rbc        15116\n",
       "bamboo/timber heavy roof                 14353\n",
       "reinforced brick slab/rcc/rbc             2468\n",
       "Name: type_of_roof, dtype: int64"
      ]
     },
     "execution_count": 5,
     "metadata": {},
     "output_type": "execute_result"
    }
   ],
   "source": [
    "train[\"type_of_roof\"].value_counts()"
   ]
  },
  {
   "cell_type": "code",
   "execution_count": 6,
   "metadata": {},
   "outputs": [
    {
     "data": {
      "text/plain": [
       "(301607, 24)"
      ]
     },
     "execution_count": 6,
     "metadata": {},
     "output_type": "execute_result"
    }
   ],
   "source": [
    "train.shape"
   ]
  },
  {
   "attachments": {},
   "cell_type": "markdown",
   "metadata": {},
   "source": [
    "## FE"
   ]
  },
  {
   "cell_type": "code",
   "execution_count": 22,
   "metadata": {},
   "outputs": [],
   "source": [
    "from sklearn.model_selection import train_test_split\n",
    "\n",
    "objectCol = list(train.select_dtypes(include=['object']).columns)\n",
    "numCol = list(train.select_dtypes(exclude=['object']).columns)[:-1]\n",
    "\n",
    "X = train.iloc[:, :-1]\n",
    "y = train.iloc[:, -1]\n",
    "y -= 1\n",
    "X_train, X_test, y_train, y_test = train_test_split(\n",
    "    X, y, test_size=0.2, random_state=42)"
   ]
  },
  {
   "cell_type": "code",
   "execution_count": 23,
   "metadata": {},
   "outputs": [],
   "source": [
    "from sklearn.pipeline import make_pipeline\n",
    "from sklearn.compose import ColumnTransformer\n",
    "from sklearn.preprocessing import StandardScaler, OneHotEncoder\n",
    "from category_encoders import TargetEncoder\n",
    "numeric_features = numCol\n",
    "categorical_features = objectCol\n",
    "numeric_transformer = make_pipeline(StandardScaler())\n",
    "categorical_transformer = make_pipeline(TargetEncoder())\n",
    "Preprocessor = ColumnTransformer(\n",
    "    transformers=[\n",
    "        ('numeric_transformer', numeric_transformer, numeric_features),\n",
    "        ('categorical_transformer', categorical_transformer, categorical_features)\n",
    "    ])"
   ]
  },
  {
   "cell_type": "code",
   "execution_count": 24,
   "metadata": {},
   "outputs": [],
   "source": [
    "from imblearn.under_sampling import RandomUnderSampler\n",
    "\n",
    "rus = RandomUnderSampler()\n",
    "X_rus, y_rus = rus.fit_resample(X_train, y_train)\n",
    "X_train = Preprocessor.fit_transform(X_rus, y_rus)\n",
    "X_test = Preprocessor.transform(X_test)"
   ]
  },
  {
   "cell_type": "code",
   "execution_count": 25,
   "metadata": {},
   "outputs": [
    {
     "name": "stdout",
     "output_type": "stream",
     "text": [
      "0.8147239334272716\n"
     ]
    }
   ],
   "source": [
    "from xgboost import XGBClassifier\n",
    "from sklearn.metrics import f1_score\n",
    "\n",
    "x = XGBClassifier()\n",
    "x.fit(X_train, y_rus)\n",
    "\n",
    "y_pred = x.predict(X_test)\n",
    "print(f1_score(y_test, y_pred, average='macro'))"
   ]
  },
  {
   "cell_type": "code",
   "execution_count": 27,
   "metadata": {},
   "outputs": [
    {
     "name": "stdout",
     "output_type": "stream",
     "text": [
      "0.8156723152881638\n"
     ]
    }
   ],
   "source": [
    "from lightgbm import LGBMClassifier\n",
    "\n",
    "l = LGBMClassifier()\n",
    "l.fit(X_train, y_rus)\n",
    "\n",
    "y_pred = l.predict(X_test)\n",
    "print(f1_score(y_test, y_pred, average='macro'))"
   ]
  },
  {
   "cell_type": "code",
   "execution_count": 44,
   "metadata": {},
   "outputs": [
    {
     "data": {
      "text/html": [
       "<div>\n",
       "<style scoped>\n",
       "    .dataframe tbody tr th:only-of-type {\n",
       "        vertical-align: middle;\n",
       "    }\n",
       "\n",
       "    .dataframe tbody tr th {\n",
       "        vertical-align: top;\n",
       "    }\n",
       "\n",
       "    .dataframe thead th {\n",
       "        text-align: right;\n",
       "    }\n",
       "</style>\n",
       "<table border=\"1\" class=\"dataframe\">\n",
       "  <thead>\n",
       "    <tr style=\"text-align: right;\">\n",
       "      <th></th>\n",
       "      <th>id</th>\n",
       "      <th>damage_grade</th>\n",
       "    </tr>\n",
       "  </thead>\n",
       "  <tbody>\n",
       "    <tr>\n",
       "      <th>0</th>\n",
       "      <td>0</td>\n",
       "      <td>4</td>\n",
       "    </tr>\n",
       "    <tr>\n",
       "      <th>1</th>\n",
       "      <td>1</td>\n",
       "      <td>5</td>\n",
       "    </tr>\n",
       "    <tr>\n",
       "      <th>2</th>\n",
       "      <td>2</td>\n",
       "      <td>5</td>\n",
       "    </tr>\n",
       "    <tr>\n",
       "      <th>3</th>\n",
       "      <td>3</td>\n",
       "      <td>4</td>\n",
       "    </tr>\n",
       "    <tr>\n",
       "      <th>4</th>\n",
       "      <td>4</td>\n",
       "      <td>2</td>\n",
       "    </tr>\n",
       "  </tbody>\n",
       "</table>\n",
       "</div>"
      ],
      "text/plain": [
       "   id  damage_grade\n",
       "0   0             4\n",
       "1   1             5\n",
       "2   2             5\n",
       "3   3             4\n",
       "4   4             2"
      ]
     },
     "execution_count": 44,
     "metadata": {},
     "output_type": "execute_result"
    }
   ],
   "source": [
    "y_pred_sub = l.predict(Preprocessor.transform(test))\n",
    "submission = pd.read_csv(\"../../dataset/raw/sample_submission.csv\")\n",
    "submission[\"damage_grade\"] = y_pred_sub + 1\n",
    "submission[\"damage_grade\"] = submission[\"damage_grade\"].astype(int)\n",
    "submission.head()"
   ]
  },
  {
   "cell_type": "code",
   "execution_count": 45,
   "metadata": {},
   "outputs": [],
   "source": [
    "# submission.to_csv(\"../../dataset/submission_jeki_lgbm.csv\", index=False)"
   ]
  },
  {
   "cell_type": "code",
   "execution_count": 29,
   "metadata": {},
   "outputs": [],
   "source": [
    "import optuna"
   ]
  },
  {
   "cell_type": "code",
   "execution_count": 30,
   "metadata": {},
   "outputs": [
    {
     "name": "stderr",
     "output_type": "stream",
     "text": [
      "\u001b[32m[I 2023-04-13 20:03:29,320]\u001b[0m A new study created in memory with name: no-name-426ba131-cc51-4172-b1a4-2819f2d3e8a4\u001b[0m\n",
      "\u001b[32m[I 2023-04-13 20:03:37,286]\u001b[0m Trial 1 finished with value: 0.8165224607109908 and parameters: {'lambda_l1': 1.983951289910384e-08, 'lambda_l2': 1.780030368375846e-08, 'num_leaves': 26, 'feature_fraction': 0.5794990130825164, 'bagging_fraction': 0.871482896603495, 'bagging_freq': 2, 'min_child_samples': 93}. Best is trial 1 with value: 0.8165224607109908.\u001b[0m\n",
      "\u001b[32m[I 2023-04-13 20:03:39,224]\u001b[0m Trial 5 finished with value: 0.8161343505785318 and parameters: {'lambda_l1': 4.7157796800040687e-07, 'lambda_l2': 7.97584384901542e-05, 'num_leaves': 37, 'feature_fraction': 0.9070720497765552, 'bagging_fraction': 0.7078914425845146, 'bagging_freq': 7, 'min_child_samples': 61}. Best is trial 1 with value: 0.8165224607109908.\u001b[0m\n",
      "\u001b[32m[I 2023-04-13 20:03:46,140]\u001b[0m Trial 4 finished with value: 0.8146318439732116 and parameters: {'lambda_l1': 5.965156070170147, 'lambda_l2': 1.1937875982969785e-05, 'num_leaves': 202, 'feature_fraction': 0.7206169235721425, 'bagging_fraction': 0.9342682273924434, 'bagging_freq': 2, 'min_child_samples': 77}. Best is trial 1 with value: 0.8165224607109908.\u001b[0m\n",
      "\u001b[32m[I 2023-04-13 20:03:46,921]\u001b[0m Trial 7 finished with value: 0.8168685830861447 and parameters: {'lambda_l1': 0.0025166694329240374, 'lambda_l2': 5.444551476077284e-07, 'num_leaves': 44, 'feature_fraction': 0.4123080345408474, 'bagging_fraction': 0.9198845116090385, 'bagging_freq': 7, 'min_child_samples': 85}. Best is trial 7 with value: 0.8168685830861447.\u001b[0m\n",
      "\u001b[32m[I 2023-04-13 20:03:51,826]\u001b[0m Trial 3 finished with value: 0.8127637621524604 and parameters: {'lambda_l1': 8.994085633545864e-07, 'lambda_l2': 1.6317840589284522e-05, 'num_leaves': 122, 'feature_fraction': 0.5216424469904182, 'bagging_fraction': 0.4344571424637004, 'bagging_freq': 2, 'min_child_samples': 44}. Best is trial 7 with value: 0.8168685830861447.\u001b[0m\n"
     ]
    }
   ],
   "source": [
    "def lgbm_objective(trial):\n",
    "\n",
    "    params = {\n",
    "        \"objective\": \"multiclass\",\n",
    "        \"metric\": \"multi_logloss\",\n",
    "        \"verbosity\": -1,\n",
    "        \"boosting_type\": \"gbdt\",\n",
    "        \"num_class\": 5,\n",
    "        \"lambda_l1\": trial.suggest_float(\"lambda_l1\", 1e-8, 10.0, log=True),\n",
    "        \"lambda_l2\": trial.suggest_float(\"lambda_l2\", 1e-8, 10.0, log=True),\n",
    "        \"num_leaves\": trial.suggest_int(\"num_leaves\", 2, 256),\n",
    "        \"feature_fraction\": trial.suggest_float(\"feature_fraction\", 0.4, 1.0),\n",
    "        \"bagging_fraction\": trial.suggest_float(\"bagging_fraction\", 0.4, 1.0),\n",
    "        \"bagging_freq\": trial.suggest_int(\"bagging_freq\", 1, 7),\n",
    "        \"min_child_samples\": trial.suggest_int(\"min_child_samples\", 5, 100),\n",
    "    }\n",
    "\n",
    "    l = LGBMClassifier(**params, random_state=69420)\n",
    "    l.fit(X_train, y_rus)\n",
    "\n",
    "    y_pred = l.predict(X_test)\n",
    "\n",
    "    return f1_score(y_test, y_pred, average=\"macro\")\n",
    "\n",
    "\n",
    "l_study = optuna.create_study(direction='maximize')\n",
    "l_study.optimize(lgbm_objective, n_trials=1000, n_jobs=6, timeout=60*15, show_progress_bar=True)"
   ]
  },
  {
   "cell_type": "code",
   "execution_count": 51,
   "metadata": {},
   "outputs": [
    {
     "data": {
      "text/plain": [
       "0.8177861188172632"
      ]
     },
     "execution_count": 51,
     "metadata": {},
     "output_type": "execute_result"
    }
   ],
   "source": [
    "l_study.best_value"
   ]
  },
  {
   "cell_type": "code",
   "execution_count": 52,
   "metadata": {},
   "outputs": [
    {
     "data": {
      "text/plain": [
       "{'lambda_l1': 0.09918938374098207,\n",
       " 'lambda_l2': 0.12147618595222721,\n",
       " 'num_leaves': 81,\n",
       " 'feature_fraction': 0.5375403412968238,\n",
       " 'bagging_fraction': 0.9903473914047031,\n",
       " 'bagging_freq': 4,\n",
       " 'min_child_samples': 78}"
      ]
     },
     "execution_count": 52,
     "metadata": {},
     "output_type": "execute_result"
    }
   ],
   "source": [
    "l_study.best_params"
   ]
  },
  {
   "cell_type": "code",
   "execution_count": null,
   "metadata": {},
   "outputs": [],
   "source": []
  }
 ],
 "metadata": {
  "kernelspec": {
   "display_name": "DataScience",
   "language": "python",
   "name": "python3"
  },
  "language_info": {
   "codemirror_mode": {
    "name": "ipython",
    "version": 3
   },
   "file_extension": ".py",
   "mimetype": "text/x-python",
   "name": "python",
   "nbconvert_exporter": "python",
   "pygments_lexer": "ipython3",
   "version": "3.9.6"
  },
  "orig_nbformat": 4,
  "vscode": {
   "interpreter": {
    "hash": "d3120404ab40088dde46363bad1bdd78d1aeca7b6f18e79999fc72cb3d9151a5"
   }
  }
 },
 "nbformat": 4,
 "nbformat_minor": 2
}
