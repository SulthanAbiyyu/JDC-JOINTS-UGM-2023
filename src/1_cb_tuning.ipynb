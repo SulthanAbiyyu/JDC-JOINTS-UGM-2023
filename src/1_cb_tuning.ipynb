{
 "cells": [
  {
   "cell_type": "code",
   "execution_count": 2,
   "metadata": {},
   "outputs": [],
   "source": [
    "from sklearn.model_selection import train_test_split\n",
    "import optuna\n",
    "from sklearn.metrics import f1_score\n",
    "import catboost as cb\n",
    "import json\n",
    "import pandas as pd\n",
    "from sklearn.preprocessing import RobustScaler"
   ]
  },
  {
   "cell_type": "code",
   "execution_count": 4,
   "metadata": {},
   "outputs": [],
   "source": [
    "df = pd.read_csv(\"../dataset/processed/targetECTrain.csv\")\n",
    "\n",
    "X = df.drop([\"damage_grade\"], axis=1)\n",
    "y = df[\"damage_grade\"]\n",
    "\n",
    "s = RobustScaler()\n",
    "\n",
    "X_s = pd.DataFrame(s.fit_transform(X))\n",
    "X_s.columns = X.columns\n",
    "X = X_s\n",
    "\n",
    "X_train, X_test, y_train, y_test = train_test_split(\n",
    "    X, y, test_size=0.25, random_state=69420)"
   ]
  },
  {
   "cell_type": "code",
   "execution_count": 16,
   "metadata": {},
   "outputs": [],
   "source": [
    "import warnings\n",
    "\n",
    "warnings.filterwarnings(\"ignore\")"
   ]
  },
  {
   "cell_type": "code",
   "execution_count": 18,
   "metadata": {},
   "outputs": [
    {
     "name": "stderr",
     "output_type": "stream",
     "text": [
      "\u001b[32m[I 2023-04-11 00:15:32,289]\u001b[0m A new study created in memory with name: no-name-5ac07c74-793e-46dd-b2ac-c88cdcb19f78\u001b[0m\n",
      "\u001b[32m[I 2023-04-11 00:15:33,581]\u001b[0m Trial 0 finished with value: 0.6534933151655921 and parameters: {'n_estimators': 5832, 'learning_rate': 0.5146199629844437, 'max_depth': 4}. Best is trial 0 with value: 0.6534933151655921.\u001b[0m\n"
     ]
    }
   ],
   "source": [
    "def objective(trial):\n",
    "    param = {\n",
    "            \"n_estimators\": trial.suggest_int(\"n_estimators\", 100, 10000),\n",
    "            \"learning_rate\": trial.suggest_loguniform(\"learning_rate\", 1e-3, 1.0),\n",
    "            \"max_depth\": trial.suggest_int(\"max_depth\", 1, 16),\n",
    "            \"random_state\": 69420,\n",
    "        }\n",
    "\n",
    "    gbm = cb.CatBoostClassifier(**param)\n",
    "\n",
    "    gbm.fit(X_train, y_train, eval_set=[\n",
    "            (X_test, y_test)], verbose=0, early_stopping_rounds=100)\n",
    "\n",
    "    preds = gbm.predict(X_test)\n",
    "    return f1_score(y_test, preds, average='macro')\n",
    "\n",
    "\n",
    "study = optuna.create_study(direction=\"maximize\")\n",
    "study.optimize(objective, n_trials=50, timeout=600)\n"
   ]
  },
  {
   "cell_type": "code",
   "execution_count": null,
   "metadata": {},
   "outputs": [],
   "source": []
  }
 ],
 "metadata": {
  "kernelspec": {
   "display_name": "DataScience",
   "language": "python",
   "name": "python3"
  },
  "language_info": {
   "codemirror_mode": {
    "name": "ipython",
    "version": 3
   },
   "file_extension": ".py",
   "mimetype": "text/x-python",
   "name": "python",
   "nbconvert_exporter": "python",
   "pygments_lexer": "ipython3",
   "version": "3.9.6 (default, Aug 18 2021, 15:44:49) [MSC v.1916 64 bit (AMD64)]"
  },
  "orig_nbformat": 4,
  "vscode": {
   "interpreter": {
    "hash": "d3120404ab40088dde46363bad1bdd78d1aeca7b6f18e79999fc72cb3d9151a5"
   }
  }
 },
 "nbformat": 4,
 "nbformat_minor": 2
}
