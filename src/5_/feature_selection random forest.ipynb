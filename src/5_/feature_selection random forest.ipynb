{
 "cells": [
  {
   "cell_type": "code",
   "execution_count": 1,
   "metadata": {},
   "outputs": [],
   "source": [
    "from tqdm import tqdm\n",
    "import numpy as np\n",
    "import pandas as pd\n",
    "import matplotlib.pyplot as plt\n",
    "import seaborn as sns\n",
    "\n",
    "import warnings\n",
    "warnings.filterwarnings('ignore')\n",
    "\n",
    "\n",
    "tqdm.pandas()"
   ]
  },
  {
   "cell_type": "code",
   "execution_count": 2,
   "metadata": {},
   "outputs": [
    {
     "data": {
      "text/html": [
       "<div>\n",
       "<style scoped>\n",
       "    .dataframe tbody tr th:only-of-type {\n",
       "        vertical-align: middle;\n",
       "    }\n",
       "\n",
       "    .dataframe tbody tr th {\n",
       "        vertical-align: top;\n",
       "    }\n",
       "\n",
       "    .dataframe thead th {\n",
       "        text-align: right;\n",
       "    }\n",
       "</style>\n",
       "<table border=\"1\" class=\"dataframe\">\n",
       "  <thead>\n",
       "    <tr style=\"text-align: right;\">\n",
       "      <th></th>\n",
       "      <th>floors_before_eq (total)</th>\n",
       "      <th>old_building</th>\n",
       "      <th>plinth_area (ft^2)</th>\n",
       "      <th>height_before_eq (ft)</th>\n",
       "      <th>land_surface_condition</th>\n",
       "      <th>type_of_foundation</th>\n",
       "      <th>type_of_roof</th>\n",
       "      <th>type_of_ground_floor</th>\n",
       "      <th>type_of_other_floor</th>\n",
       "      <th>position</th>\n",
       "      <th>...</th>\n",
       "      <th>type_of_reinforcement_concrete</th>\n",
       "      <th>residential_type</th>\n",
       "      <th>no_family_residing</th>\n",
       "      <th>public_place_type</th>\n",
       "      <th>industrial_use_type</th>\n",
       "      <th>govermental_use_type</th>\n",
       "      <th>flexible_superstructure</th>\n",
       "      <th>wall_binding</th>\n",
       "      <th>wall_material</th>\n",
       "      <th>damage_grade</th>\n",
       "    </tr>\n",
       "  </thead>\n",
       "  <tbody>\n",
       "    <tr>\n",
       "      <th>0</th>\n",
       "      <td>2</td>\n",
       "      <td>1.0</td>\n",
       "      <td>17.0688</td>\n",
       "      <td>22.0</td>\n",
       "      <td>Flat</td>\n",
       "      <td>bamboo or timber</td>\n",
       "      <td>bamboo/timber light roof</td>\n",
       "      <td>clay</td>\n",
       "      <td>timber/bamboo-mud</td>\n",
       "      <td>Not attached</td>\n",
       "      <td>...</td>\n",
       "      <td>No reinforcement concrete</td>\n",
       "      <td>Non-residential</td>\n",
       "      <td>1.0</td>\n",
       "      <td>Non-public</td>\n",
       "      <td>Non-industrial</td>\n",
       "      <td>Non-govermental</td>\n",
       "      <td>unavailable</td>\n",
       "      <td>Unknown/not stated</td>\n",
       "      <td>Unknown/not stated</td>\n",
       "      <td>1.0</td>\n",
       "    </tr>\n",
       "    <tr>\n",
       "      <th>1</th>\n",
       "      <td>3</td>\n",
       "      <td>3.0</td>\n",
       "      <td>300.2280</td>\n",
       "      <td>18.0</td>\n",
       "      <td>Flat</td>\n",
       "      <td>clay sand mixed mortar-stone/brick</td>\n",
       "      <td>wood light roof or bamboo heavy roof</td>\n",
       "      <td>clay</td>\n",
       "      <td>timber/bamboo-mud</td>\n",
       "      <td>Not attached</td>\n",
       "      <td>...</td>\n",
       "      <td>No reinforcement concrete</td>\n",
       "      <td>Non-residential</td>\n",
       "      <td>1.0</td>\n",
       "      <td>Non-public</td>\n",
       "      <td>Non-industrial</td>\n",
       "      <td>Non-govermental</td>\n",
       "      <td>unavailable</td>\n",
       "      <td>Mud + Mortar,Clay</td>\n",
       "      <td>Stone Bricks</td>\n",
       "      <td>5.0</td>\n",
       "    </tr>\n",
       "    <tr>\n",
       "      <th>3</th>\n",
       "      <td>2</td>\n",
       "      <td>18.0</td>\n",
       "      <td>56.3880</td>\n",
       "      <td>15.0</td>\n",
       "      <td>Flat</td>\n",
       "      <td>clay sand mixed mortar-stone/brick</td>\n",
       "      <td>wood light roof or bamboo light roof</td>\n",
       "      <td>clay</td>\n",
       "      <td>timber/bamboo-mud</td>\n",
       "      <td>Not attached</td>\n",
       "      <td>...</td>\n",
       "      <td>No reinforcement concrete</td>\n",
       "      <td>Non-residential</td>\n",
       "      <td>1.0</td>\n",
       "      <td>Non-public</td>\n",
       "      <td>Non-industrial</td>\n",
       "      <td>Non-govermental</td>\n",
       "      <td>unavailable</td>\n",
       "      <td>Mud + Mortar,Clay</td>\n",
       "      <td>Stone Bricks</td>\n",
       "      <td>4.0</td>\n",
       "    </tr>\n",
       "    <tr>\n",
       "      <th>4</th>\n",
       "      <td>2</td>\n",
       "      <td>22.0</td>\n",
       "      <td>27.4320</td>\n",
       "      <td>17.0</td>\n",
       "      <td>Flat</td>\n",
       "      <td>clay sand mixed mortar-stone/brick</td>\n",
       "      <td>bamboo or timber light roof</td>\n",
       "      <td>clay</td>\n",
       "      <td>timber/bamboo-mud</td>\n",
       "      <td>Not attached</td>\n",
       "      <td>...</td>\n",
       "      <td>No reinforcement concrete</td>\n",
       "      <td>Non-residential</td>\n",
       "      <td>1.0</td>\n",
       "      <td>Non-public</td>\n",
       "      <td>Non-industrial</td>\n",
       "      <td>Non-govermental</td>\n",
       "      <td>unavailable</td>\n",
       "      <td>Mud + Mortar,Clay</td>\n",
       "      <td>Stone Bricks</td>\n",
       "      <td>1.0</td>\n",
       "    </tr>\n",
       "    <tr>\n",
       "      <th>7</th>\n",
       "      <td>2</td>\n",
       "      <td>40.0</td>\n",
       "      <td>153.6192</td>\n",
       "      <td>14.0</td>\n",
       "      <td>Flat</td>\n",
       "      <td>clay mortar-stone/brick</td>\n",
       "      <td>bamboo/timber light roof</td>\n",
       "      <td>clay</td>\n",
       "      <td>timber/bamboo-mud</td>\n",
       "      <td>Not attached</td>\n",
       "      <td>...</td>\n",
       "      <td>No reinforcement concrete</td>\n",
       "      <td>Non-residential</td>\n",
       "      <td>1.0</td>\n",
       "      <td>Non-public</td>\n",
       "      <td>Non-industrial</td>\n",
       "      <td>Non-govermental</td>\n",
       "      <td>unavailable</td>\n",
       "      <td>Mud + Mortar,Clay</td>\n",
       "      <td>Stone Bricks</td>\n",
       "      <td>4.0</td>\n",
       "    </tr>\n",
       "  </tbody>\n",
       "</table>\n",
       "<p>5 rows × 24 columns</p>\n",
       "</div>"
      ],
      "text/plain": [
       "   floors_before_eq (total)  old_building  plinth_area (ft^2)  \\\n",
       "0                         2           1.0             17.0688   \n",
       "1                         3           3.0            300.2280   \n",
       "3                         2          18.0             56.3880   \n",
       "4                         2          22.0             27.4320   \n",
       "7                         2          40.0            153.6192   \n",
       "\n",
       "   height_before_eq (ft) land_surface_condition  \\\n",
       "0                   22.0                   Flat   \n",
       "1                   18.0                   Flat   \n",
       "3                   15.0                   Flat   \n",
       "4                   17.0                   Flat   \n",
       "7                   14.0                   Flat   \n",
       "\n",
       "                   type_of_foundation                          type_of_roof  \\\n",
       "0                    bamboo or timber              bamboo/timber light roof   \n",
       "1  clay sand mixed mortar-stone/brick  wood light roof or bamboo heavy roof   \n",
       "3  clay sand mixed mortar-stone/brick  wood light roof or bamboo light roof   \n",
       "4  clay sand mixed mortar-stone/brick           bamboo or timber light roof   \n",
       "7             clay mortar-stone/brick              bamboo/timber light roof   \n",
       "\n",
       "  type_of_ground_floor type_of_other_floor      position  ...  \\\n",
       "0                 clay   timber/bamboo-mud  Not attached  ...   \n",
       "1                 clay   timber/bamboo-mud  Not attached  ...   \n",
       "3                 clay   timber/bamboo-mud  Not attached  ...   \n",
       "4                 clay   timber/bamboo-mud  Not attached  ...   \n",
       "7                 clay   timber/bamboo-mud  Not attached  ...   \n",
       "\n",
       "  type_of_reinforcement_concrete residential_type no_family_residing  \\\n",
       "0      No reinforcement concrete  Non-residential                1.0   \n",
       "1      No reinforcement concrete  Non-residential                1.0   \n",
       "3      No reinforcement concrete  Non-residential                1.0   \n",
       "4      No reinforcement concrete  Non-residential                1.0   \n",
       "7      No reinforcement concrete  Non-residential                1.0   \n",
       "\n",
       "   public_place_type industrial_use_type govermental_use_type  \\\n",
       "0         Non-public      Non-industrial      Non-govermental   \n",
       "1         Non-public      Non-industrial      Non-govermental   \n",
       "3         Non-public      Non-industrial      Non-govermental   \n",
       "4         Non-public      Non-industrial      Non-govermental   \n",
       "7         Non-public      Non-industrial      Non-govermental   \n",
       "\n",
       "   flexible_superstructure        wall_binding       wall_material  \\\n",
       "0              unavailable  Unknown/not stated  Unknown/not stated   \n",
       "1              unavailable   Mud + Mortar,Clay        Stone Bricks   \n",
       "3              unavailable   Mud + Mortar,Clay        Stone Bricks   \n",
       "4              unavailable   Mud + Mortar,Clay        Stone Bricks   \n",
       "7              unavailable   Mud + Mortar,Clay        Stone Bricks   \n",
       "\n",
       "  damage_grade  \n",
       "0          1.0  \n",
       "1          5.0  \n",
       "3          4.0  \n",
       "4          1.0  \n",
       "7          4.0  \n",
       "\n",
       "[5 rows x 24 columns]"
      ]
     },
     "execution_count": 2,
     "metadata": {},
     "output_type": "execute_result"
    }
   ],
   "source": [
    "train = pd.read_csv(\"../../dataset/processed/cleanDataset.csv\", index_col=0)\n",
    "test = pd.read_csv(\"../../dataset/processed/cleanTest.csv\", index_col=0)\n",
    "\n",
    "train.head()"
   ]
  },
  {
   "cell_type": "code",
   "execution_count": 3,
   "metadata": {},
   "outputs": [],
   "source": [
    "dict_type_of_roof = {\n",
    "    \"bamboo/timber-heavy roof\": \"bamboo/timber heavy roof\",\n",
    "    \"bamboo or timber light roof\": \"bamboo/timber-light roof\",\n",
    "    \"bamboo/timber light roof \": \"bamboo/timber-light roof\",\n",
    "    \"bamboo or timber heavy roof\": \"bamboo/timber heavy roof\",\n",
    "    \"bamboo/timber light roof\": \"bamboo/timber-light roof\",\n",
    "    \"reinforced brick concrete/rcc/rbc\": \"reinforced cement concrete/rb/rbc\"\n",
    "}\n",
    "\n",
    "train[\"type_of_roof\"].replace(dict_type_of_roof, inplace=True)\n",
    "test[\"type_of_roof\"].replace(dict_type_of_roof, inplace=True)"
   ]
  },
  {
   "cell_type": "code",
   "execution_count": 4,
   "metadata": {},
   "outputs": [
    {
     "data": {
      "text/plain": [
       "bamboo/timber-light roof                139695\n",
       "wood light roof or bamboo heavy roof     70095\n",
       "wood light roof or bamboo light roof     59880\n",
       "reinforced cement concrete/rb/rbc        15116\n",
       "bamboo/timber heavy roof                 14353\n",
       "reinforced brick slab/rcc/rbc             2468\n",
       "Name: type_of_roof, dtype: int64"
      ]
     },
     "execution_count": 4,
     "metadata": {},
     "output_type": "execute_result"
    }
   ],
   "source": [
    "train[\"type_of_roof\"].value_counts()"
   ]
  },
  {
   "cell_type": "code",
   "execution_count": 5,
   "metadata": {},
   "outputs": [
    {
     "data": {
      "text/plain": [
       "(301607, 24)"
      ]
     },
     "execution_count": 5,
     "metadata": {},
     "output_type": "execute_result"
    }
   ],
   "source": [
    "train.shape"
   ]
  },
  {
   "attachments": {},
   "cell_type": "markdown",
   "metadata": {},
   "source": [
    "## FE"
   ]
  },
  {
   "cell_type": "code",
   "execution_count": 6,
   "metadata": {},
   "outputs": [],
   "source": [
    "from sklearn.model_selection import train_test_split\n",
    "\n",
    "objectCol = list(train.select_dtypes(include=['object']).columns)\n",
    "numCol = list(train.select_dtypes(exclude=['object']).columns)[:-1]\n",
    "\n",
    "X = train.iloc[:, :-1]\n",
    "y = train.iloc[:, -1]\n",
    "y -= 1\n",
    "X_train, X_test, y_train, y_test = train_test_split(\n",
    "    X, y, test_size=0.2, random_state=42)"
   ]
  },
  {
   "cell_type": "code",
   "execution_count": 7,
   "metadata": {},
   "outputs": [],
   "source": [
    "from sklearn.pipeline import make_pipeline\n",
    "from sklearn.compose import ColumnTransformer\n",
    "from sklearn.preprocessing import StandardScaler, OneHotEncoder\n",
    "numeric_features = numCol\n",
    "categorical_features = objectCol\n",
    "numeric_transformer = make_pipeline(StandardScaler())\n",
    "categorical_transformer = make_pipeline(OneHotEncoder())\n",
    "Preprocessor = ColumnTransformer(\n",
    "    transformers=[\n",
    "        ('numeric_transformer', numeric_transformer, numeric_features),\n",
    "        ('categorical_transformer', categorical_transformer, categorical_features)\n",
    "    ])"
   ]
  },
  {
   "cell_type": "code",
   "execution_count": 8,
   "metadata": {},
   "outputs": [],
   "source": [
    "from imblearn.under_sampling import RandomUnderSampler\n",
    "\n",
    "rus = RandomUnderSampler()\n",
    "X_rus, y_rus = rus.fit_resample(X_train, y_train)\n",
    "X_train = Preprocessor.fit_transform(X_rus)\n",
    "X_test = Preprocessor.transform(X_test)"
   ]
  },
  {
   "cell_type": "code",
   "execution_count": 9,
   "metadata": {},
   "outputs": [
    {
     "name": "stdout",
     "output_type": "stream",
     "text": [
      "F1 score: 0.8035372366954363\n"
     ]
    }
   ],
   "source": [
    "from sklearn.ensemble import RandomForestClassifier\n",
    "from sklearn.metrics import f1_score\n",
    "\n",
    "r = RandomForestClassifier(random_state=42, n_jobs=6)\n",
    "r.fit(X_train, y_rus)\n",
    "\n",
    "y_pred = r.predict(X_test)\n",
    "print(f\"F1 score: {f1_score(y_test, y_pred, average='macro')}\")"
   ]
  },
  {
   "cell_type": "code",
   "execution_count": 10,
   "metadata": {},
   "outputs": [
    {
     "name": "stderr",
     "output_type": "stream",
     "text": [
      "\u001b[32m[I 2023-04-15 22:03:39,001]\u001b[0m A new study created in memory with name: no-name-b029646d-f872-464c-bb82-c0e85f942e03\u001b[0m\n",
      "\u001b[32m[I 2023-04-15 22:04:28,518]\u001b[0m Trial 1 finished with value: 0.8126922911792551 and parameters: {'n_estimators': 77, 'max_depth': 77, 'min_samples_split': 4, 'min_samples_leaf': 4, 'max_features': 'log2'}. Best is trial 1 with value: 0.8126922911792551.\u001b[0m\n",
      "\u001b[32m[I 2023-04-15 22:04:42,439]\u001b[0m Trial 4 finished with value: 0.8113819592461627 and parameters: {'n_estimators': 136, 'max_depth': 35, 'min_samples_split': 9, 'min_samples_leaf': 9, 'max_features': 'log2'}. Best is trial 1 with value: 0.8126922911792551.\u001b[0m\n",
      "\u001b[32m[I 2023-04-15 22:05:03,168]\u001b[0m Trial 6 finished with value: 0.8119349329795916 and parameters: {'n_estimators': 35, 'max_depth': 55, 'min_samples_split': 4, 'min_samples_leaf': 9, 'max_features': 'sqrt'}. Best is trial 1 with value: 0.8126922911792551.\u001b[0m\n",
      "\u001b[32m[I 2023-04-15 22:05:09,390]\u001b[0m Trial 2 finished with value: 0.814971472375527 and parameters: {'n_estimators': 89, 'max_depth': 94, 'min_samples_split': 8, 'min_samples_leaf': 5, 'max_features': 'auto'}. Best is trial 2 with value: 0.814971472375527.\u001b[0m\n",
      "\u001b[32m[I 2023-04-15 22:05:17,871]\u001b[0m Trial 0 finished with value: 0.8116742569439899 and parameters: {'n_estimators': 255, 'max_depth': 47, 'min_samples_split': 10, 'min_samples_leaf': 9, 'max_features': 'log2'}. Best is trial 2 with value: 0.814971472375527.\u001b[0m\n",
      "\u001b[32m[I 2023-04-15 22:06:02,568]\u001b[0m Trial 10 finished with value: 0.8107133796824382 and parameters: {'n_estimators': 95, 'max_depth': 15, 'min_samples_split': 3, 'min_samples_leaf': 10, 'max_features': 'sqrt'}. Best is trial 2 with value: 0.814971472375527.\u001b[0m\n",
      "\u001b[32m[I 2023-04-15 22:06:30,952]\u001b[0m Trial 5 finished with value: 0.8148470071011387 and parameters: {'n_estimators': 160, 'max_depth': 32, 'min_samples_split': 6, 'min_samples_leaf': 6, 'max_features': 'auto'}. Best is trial 2 with value: 0.814971472375527.\u001b[0m\n",
      "\u001b[32m[I 2023-04-15 22:06:40,053]\u001b[0m Trial 9 finished with value: 0.811257565295308 and parameters: {'n_estimators': 195, 'max_depth': 93, 'min_samples_split': 3, 'min_samples_leaf': 8, 'max_features': 'log2'}. Best is trial 2 with value: 0.814971472375527.\u001b[0m\n",
      "\u001b[32m[I 2023-04-15 22:06:50,570]\u001b[0m Trial 7 finished with value: 0.813679794935086 and parameters: {'n_estimators': 172, 'max_depth': 97, 'min_samples_split': 9, 'min_samples_leaf': 3, 'max_features': 'log2'}. Best is trial 2 with value: 0.814971472375527.\u001b[0m\n",
      "\u001b[32m[I 2023-04-15 22:07:00,256]\u001b[0m Trial 13 finished with value: 0.8101317384703755 and parameters: {'n_estimators': 21, 'max_depth': 30, 'min_samples_split': 3, 'min_samples_leaf': 3, 'max_features': 'log2'}. Best is trial 2 with value: 0.814971472375527.\u001b[0m\n",
      "\u001b[32m[I 2023-04-15 22:07:26,430]\u001b[0m Trial 14 finished with value: 0.8099373629133385 and parameters: {'n_estimators': 29, 'max_depth': 34, 'min_samples_split': 3, 'min_samples_leaf': 2, 'max_features': 'log2'}. Best is trial 2 with value: 0.814971472375527.\u001b[0m\n",
      "\u001b[32m[I 2023-04-15 22:07:32,093]\u001b[0m Trial 11 finished with value: 0.8100821718947062 and parameters: {'n_estimators': 203, 'max_depth': 15, 'min_samples_split': 2, 'min_samples_leaf': 1, 'max_features': 'log2'}. Best is trial 2 with value: 0.814971472375527.\u001b[0m\n",
      "\u001b[32m[I 2023-04-15 22:07:34,514]\u001b[0m Trial 16 finished with value: 0.7580744957668127 and parameters: {'n_estimators': 221, 'max_depth': 2, 'min_samples_split': 7, 'min_samples_leaf': 6, 'max_features': 'auto'}. Best is trial 2 with value: 0.814971472375527.\u001b[0m\n",
      "\u001b[32m[I 2023-04-15 22:08:43,139]\u001b[0m Trial 3 finished with value: 0.8134388356590578 and parameters: {'n_estimators': 154, 'max_depth': 91, 'min_samples_split': 3, 'min_samples_leaf': 2, 'max_features': 'sqrt'}. Best is trial 2 with value: 0.814971472375527.\u001b[0m\n",
      "\u001b[32m[I 2023-04-15 22:09:33,626]\u001b[0m Trial 18 finished with value: 0.8146997209631006 and parameters: {'n_estimators': 128, 'max_depth': 65, 'min_samples_split': 7, 'min_samples_leaf': 5, 'max_features': 'auto'}. Best is trial 2 with value: 0.814971472375527.\u001b[0m\n",
      "\u001b[32m[I 2023-04-15 22:09:54,268]\u001b[0m Trial 17 finished with value: 0.8142278448296979 and parameters: {'n_estimators': 131, 'max_depth': 68, 'min_samples_split': 7, 'min_samples_leaf': 6, 'max_features': 'auto'}. Best is trial 2 with value: 0.814971472375527.\u001b[0m\n",
      "\u001b[32m[I 2023-04-15 22:10:31,393]\u001b[0m Trial 19 finished with value: 0.81415494971396 and parameters: {'n_estimators': 117, 'max_depth': 64, 'min_samples_split': 7, 'min_samples_leaf': 6, 'max_features': 'auto'}. Best is trial 2 with value: 0.814971472375527.\u001b[0m\n",
      "\u001b[32m[I 2023-04-15 22:10:56,748]\u001b[0m Trial 20 finished with value: 0.8138789192964909 and parameters: {'n_estimators': 86, 'max_depth': 71, 'min_samples_split': 6, 'min_samples_leaf': 6, 'max_features': 'auto'}. Best is trial 2 with value: 0.814971472375527.\u001b[0m\n",
      "\u001b[32m[I 2023-04-15 22:10:57,099]\u001b[0m Trial 21 finished with value: 0.8134253490694819 and parameters: {'n_estimators': 76, 'max_depth': 49, 'min_samples_split': 6, 'min_samples_leaf': 7, 'max_features': 'auto'}. Best is trial 2 with value: 0.814971472375527.\u001b[0m\n",
      "\u001b[32m[I 2023-04-15 22:11:24,234]\u001b[0m Trial 8 finished with value: 0.81395735890793 and parameters: {'n_estimators': 199, 'max_depth': 70, 'min_samples_split': 4, 'min_samples_leaf': 2, 'max_features': 'sqrt'}. Best is trial 2 with value: 0.814971472375527.\u001b[0m\n",
      "\u001b[32m[I 2023-04-15 22:11:26,114]\u001b[0m Trial 22 finished with value: 0.8136421768427035 and parameters: {'n_estimators': 64, 'max_depth': 79, 'min_samples_split': 5, 'min_samples_leaf': 7, 'max_features': 'auto'}. Best is trial 2 with value: 0.814971472375527.\u001b[0m\n",
      "\u001b[32m[I 2023-04-15 22:11:51,535]\u001b[0m Trial 23 finished with value: 0.8134739479355175 and parameters: {'n_estimators': 59, 'max_depth': 82, 'min_samples_split': 5, 'min_samples_leaf': 7, 'max_features': 'auto'}. Best is trial 2 with value: 0.814971472375527.\u001b[0m\n",
      "\u001b[32m[I 2023-04-15 22:14:16,780]\u001b[0m Trial 27 finished with value: 0.8139158678289864 and parameters: {'n_estimators': 111, 'max_depth': 60, 'min_samples_split': 8, 'min_samples_leaf': 4, 'max_features': 'auto'}. Best is trial 2 with value: 0.814971472375527.\u001b[0m\n",
      "\u001b[32m[I 2023-04-15 22:15:23,396]\u001b[0m Trial 12 finished with value: 0.8109316203629863 and parameters: {'n_estimators': 221, 'max_depth': 43, 'min_samples_split': 8, 'min_samples_leaf': 1, 'max_features': 'auto'}. Best is trial 2 with value: 0.814971472375527.\u001b[0m\n",
      "\u001b[32m[I 2023-04-15 22:15:54,365]\u001b[0m Trial 24 finished with value: 0.8145258220670065 and parameters: {'n_estimators': 289, 'max_depth': 81, 'min_samples_split': 5, 'min_samples_leaf': 4, 'max_features': 'auto'}. Best is trial 2 with value: 0.814971472375527.\u001b[0m\n",
      "\u001b[32m[I 2023-04-15 22:16:05,963]\u001b[0m Trial 26 finished with value: 0.8146876523119706 and parameters: {'n_estimators': 288, 'max_depth': 57, 'min_samples_split': 8, 'min_samples_leaf': 4, 'max_features': 'auto'}. Best is trial 2 with value: 0.814971472375527.\u001b[0m\n",
      "\u001b[32m[I 2023-04-15 22:16:12,836]\u001b[0m Trial 25 finished with value: 0.8145580863155593 and parameters: {'n_estimators': 285, 'max_depth': 86, 'min_samples_split': 8, 'min_samples_leaf': 4, 'max_features': 'auto'}. Best is trial 2 with value: 0.814971472375527.\u001b[0m\n",
      "\u001b[32m[I 2023-04-15 22:16:20,089]\u001b[0m Trial 15 finished with value: 0.8094783055760594 and parameters: {'n_estimators': 261, 'max_depth': 70, 'min_samples_split': 7, 'min_samples_leaf': 1, 'max_features': 'auto'}. Best is trial 2 with value: 0.814971472375527.\u001b[0m\n"
     ]
    }
   ],
   "source": [
    "import optuna\n",
    "\n",
    "def r_objective(trial):\n",
    "\n",
    "    params = {\n",
    "        \"n_estimators\": trial.suggest_int(\"n_estimators\", 10, 300),\n",
    "        \"max_depth\": trial.suggest_int(\"max_depth\", 1, 100),\n",
    "        \"min_samples_split\": trial.suggest_int(\"min_samples_split\", 2, 10),\n",
    "        \"min_samples_leaf\": trial.suggest_int(\"min_samples_leaf\", 1, 10),\n",
    "        \"max_features\": trial.suggest_categorical(\"max_features\", [\"auto\", \"sqrt\", \"log2\"]),\n",
    "    }\n",
    "    \n",
    "    r = RandomForestClassifier(**params, random_state=42, n_jobs=6)\n",
    "    r.fit(X_train, y_rus)\n",
    "    \n",
    "    y_pred = r.predict(X_test)\n",
    "    \n",
    "    return f1_score(y_test, y_pred, average='macro')\n",
    "\n",
    "r_study = optuna.create_study(direction=\"maximize\")\n",
    "r_study.optimize(r_objective, n_trials=100, n_jobs=6, show_progress_bar=True, timeout=600)"
   ]
  },
  {
   "cell_type": "code",
   "execution_count": 11,
   "metadata": {},
   "outputs": [
    {
     "data": {
      "text/plain": [
       "{'n_estimators': 89,\n",
       " 'max_depth': 94,\n",
       " 'min_samples_split': 8,\n",
       " 'min_samples_leaf': 5,\n",
       " 'max_features': 'auto'}"
      ]
     },
     "execution_count": 11,
     "metadata": {},
     "output_type": "execute_result"
    }
   ],
   "source": [
    "r_study.best_params"
   ]
  },
  {
   "cell_type": "code",
   "execution_count": 12,
   "metadata": {},
   "outputs": [],
   "source": [
    "r_selected_features = pd.DataFrame(\n",
    "    r.feature_importances_, index=np.arange(0, 111), columns=['importance'])\n",
    "r_selected_features.sort_values(by='importance', ascending=False, inplace=True)\n"
   ]
  },
  {
   "cell_type": "code",
   "execution_count": 14,
   "metadata": {},
   "outputs": [
    {
     "data": {
      "text/html": [
       "<div>\n",
       "<style scoped>\n",
       "    .dataframe tbody tr th:only-of-type {\n",
       "        vertical-align: middle;\n",
       "    }\n",
       "\n",
       "    .dataframe tbody tr th {\n",
       "        vertical-align: top;\n",
       "    }\n",
       "\n",
       "    .dataframe thead th {\n",
       "        text-align: right;\n",
       "    }\n",
       "</style>\n",
       "<table border=\"1\" class=\"dataframe\">\n",
       "  <thead>\n",
       "    <tr style=\"text-align: right;\">\n",
       "      <th></th>\n",
       "      <th>importance</th>\n",
       "    </tr>\n",
       "  </thead>\n",
       "  <tbody>\n",
       "    <tr>\n",
       "      <th>55</th>\n",
       "      <td>0.169737</td>\n",
       "    </tr>\n",
       "    <tr>\n",
       "      <th>58</th>\n",
       "      <td>0.151458</td>\n",
       "    </tr>\n",
       "    <tr>\n",
       "      <th>56</th>\n",
       "      <td>0.150937</td>\n",
       "    </tr>\n",
       "    <tr>\n",
       "      <th>57</th>\n",
       "      <td>0.140821</td>\n",
       "    </tr>\n",
       "    <tr>\n",
       "      <th>2</th>\n",
       "      <td>0.083946</td>\n",
       "    </tr>\n",
       "    <tr>\n",
       "      <th>...</th>\n",
       "      <td>...</td>\n",
       "    </tr>\n",
       "    <tr>\n",
       "      <th>45</th>\n",
       "      <td>0.000006</td>\n",
       "    </tr>\n",
       "    <tr>\n",
       "      <th>75</th>\n",
       "      <td>0.000002</td>\n",
       "    </tr>\n",
       "    <tr>\n",
       "      <th>79</th>\n",
       "      <td>0.000002</td>\n",
       "    </tr>\n",
       "    <tr>\n",
       "      <th>72</th>\n",
       "      <td>0.000001</td>\n",
       "    </tr>\n",
       "    <tr>\n",
       "      <th>83</th>\n",
       "      <td>0.000001</td>\n",
       "    </tr>\n",
       "  </tbody>\n",
       "</table>\n",
       "<p>111 rows × 1 columns</p>\n",
       "</div>"
      ],
      "text/plain": [
       "    importance\n",
       "55    0.169737\n",
       "58    0.151458\n",
       "56    0.150937\n",
       "57    0.140821\n",
       "2     0.083946\n",
       "..         ...\n",
       "45    0.000006\n",
       "75    0.000002\n",
       "79    0.000002\n",
       "72    0.000001\n",
       "83    0.000001\n",
       "\n",
       "[111 rows x 1 columns]"
      ]
     },
     "execution_count": 14,
     "metadata": {},
     "output_type": "execute_result"
    }
   ],
   "source": [
    "r_selected_features"
   ]
  },
  {
   "cell_type": "code",
   "execution_count": 15,
   "metadata": {},
   "outputs": [
    {
     "name": "stdout",
     "output_type": "stream",
     "text": [
      "1 fitur teratas : 0.31604872154234104\n",
      "2 fitur teratas : 0.47354441060718944\n",
      "3 fitur teratas : 0.7288954247307974\n",
      "4 fitur teratas : 0.7288954247307974\n",
      "5 fitur teratas : 0.7846695197003071\n",
      "6 fitur teratas : 0.7815380923636847\n",
      "7 fitur teratas : 0.7890145212932319\n",
      "8 fitur teratas : 0.79321190737843\n",
      "9 fitur teratas : 0.794992583572815\n",
      "10 fitur teratas : 0.7957537103048806\n",
      "11 fitur teratas : 0.7985817922542763\n",
      "12 fitur teratas : 0.7997944704630144\n",
      "13 fitur teratas : 0.8003513564643431\n",
      "14 fitur teratas : 0.8019797513823255\n",
      "15 fitur teratas : 0.8008832004613918\n",
      "16 fitur teratas : 0.8013805702093292\n",
      "17 fitur teratas : 0.8029437507451789\n",
      "18 fitur teratas : 0.8019290317102199\n",
      "19 fitur teratas : 0.8036939539741772\n",
      "20 fitur teratas : 0.8028423574502147\n",
      "21 fitur teratas : 0.8026061931473534\n",
      "22 fitur teratas : 0.8026438741257002\n",
      "23 fitur teratas : 0.8040274893063476\n",
      "24 fitur teratas : 0.803326179622807\n",
      "25 fitur teratas : 0.8039797852122443\n",
      "26 fitur teratas : 0.8046774929246261\n",
      "27 fitur teratas : 0.804249042290564\n",
      "28 fitur teratas : 0.8066825039821769\n",
      "29 fitur teratas : 0.8069930902791367\n",
      "30 fitur teratas : 0.8067055653963926\n",
      "31 fitur teratas : 0.8070289651663266\n",
      "32 fitur teratas : 0.8076803810158231\n",
      "33 fitur teratas : 0.8067198260201168\n",
      "34 fitur teratas : 0.8067429422702892\n",
      "35 fitur teratas : 0.8074672238362075\n",
      "36 fitur teratas : 0.8084784595311726\n",
      "37 fitur teratas : 0.8075987379456455\n",
      "38 fitur teratas : 0.8083706454320762\n",
      "39 fitur teratas : 0.8085146334203792\n",
      "40 fitur teratas : 0.809820751089194\n",
      "41 fitur teratas : 0.811916344073327\n",
      "42 fitur teratas : 0.8112070092015697\n",
      "43 fitur teratas : 0.8114900909160536\n",
      "44 fitur teratas : 0.811394004061572\n",
      "45 fitur teratas : 0.8126650024007299\n",
      "46 fitur teratas : 0.8114507348548287\n",
      "47 fitur teratas : 0.8129057670273246\n",
      "48 fitur teratas : 0.8129080875199314\n",
      "49 fitur teratas : 0.8134092380896837\n",
      "50 fitur teratas : 0.8133405252338879\n",
      "51 fitur teratas : 0.8130834952811232\n",
      "52 fitur teratas : 0.813986633837515\n",
      "53 fitur teratas : 0.814158425045149\n",
      "54 fitur teratas : 0.8134401951452835\n",
      "55 fitur teratas : 0.8130601852164225\n",
      "56 fitur teratas : 0.8147428425313098\n",
      "57 fitur teratas : 0.8134454059479479\n",
      "58 fitur teratas : 0.8140221865634526\n",
      "59 fitur teratas : 0.8141879466767342\n",
      "60 fitur teratas : 0.8150510777356843\n",
      "61 fitur teratas : 0.814065547025218\n",
      "62 fitur teratas : 0.8143038573112754\n",
      "63 fitur teratas : 0.813817042617662\n",
      "64 fitur teratas : 0.814366408821664\n",
      "65 fitur teratas : 0.8145614652671865\n",
      "66 fitur teratas : 0.8136131882547952\n",
      "67 fitur teratas : 0.8147661776898094\n",
      "68 fitur teratas : 0.8143340231585775\n",
      "69 fitur teratas : 0.814482038227536\n",
      "70 fitur teratas : 0.8146722757517899\n",
      "71 fitur teratas : 0.8139473330056074\n",
      "72 fitur teratas : 0.8139027065540999\n",
      "73 fitur teratas : 0.8136151126446652\n",
      "74 fitur teratas : 0.8144033987337702\n",
      "75 fitur teratas : 0.8144744572110539\n",
      "76 fitur teratas : 0.8150690997793788\n",
      "77 fitur teratas : 0.8140496649093907\n",
      "78 fitur teratas : 0.8136124300263752\n",
      "79 fitur teratas : 0.8148287149604603\n",
      "80 fitur teratas : 0.8140821091415191\n",
      "81 fitur teratas : 0.8142831236993924\n",
      "82 fitur teratas : 0.8136322926691456\n",
      "83 fitur teratas : 0.8145588767546613\n",
      "84 fitur teratas : 0.8144592228973192\n",
      "85 fitur teratas : 0.8145420737025033\n",
      "86 fitur teratas : 0.8145093730873377\n",
      "87 fitur teratas : 0.8138209689985361\n",
      "88 fitur teratas : 0.8155851446694757\n",
      "89 fitur teratas : 0.8137811366710993\n",
      "90 fitur teratas : 0.8139511578251742\n",
      "91 fitur teratas : 0.8140635675455083\n",
      "92 fitur teratas : 0.8142852501210589\n",
      "93 fitur teratas : 0.813437715508314\n",
      "94 fitur teratas : 0.8146388818832113\n",
      "95 fitur teratas : 0.8145371167790986\n",
      "96 fitur teratas : 0.8132599683470302\n",
      "97 fitur teratas : 0.8142290763403578\n",
      "98 fitur teratas : 0.8138615438551744\n",
      "99 fitur teratas : 0.8150931932684079\n",
      "100 fitur teratas : 0.8146625316932997\n",
      "101 fitur teratas : 0.8137055953453018\n",
      "102 fitur teratas : 0.8141042532820354\n",
      "103 fitur teratas : 0.8145803523076163\n",
      "104 fitur teratas : 0.8137225316857695\n",
      "105 fitur teratas : 0.8132667817851866\n",
      "106 fitur teratas : 0.8139703276955865\n",
      "107 fitur teratas : 0.8142493259007715\n",
      "108 fitur teratas : 0.8141461705962193\n",
      "109 fitur teratas : 0.8138350978136071\n",
      "110 fitur teratas : 0.8138036953634726\n",
      "111 fitur teratas : 0.8145076091780403\n"
     ]
    }
   ],
   "source": [
    "sweet_spot = {}\n",
    "\n",
    "params = {'n_estimators': 89,\n",
    "     'max_depth': 94,\n",
    "     'min_samples_split': 8,\n",
    "     'min_samples_leaf': 5,\n",
    "     'max_features': 'auto'\n",
    "     }\n",
    "\n",
    "for i in range(1, 112):\n",
    "    X_train_selected = X_train.toarray()[:, r_selected_features[:i].index]\n",
    "    X_test_selected = X_test.toarray()[:, r_selected_features[:i].index]\n",
    "\n",
    "    x = RandomForestClassifier(**params, random_state=42, n_jobs=6)\n",
    "    x.fit(X_train_selected, y_rus)\n",
    "\n",
    "    y_pred = x.predict(X_test_selected)\n",
    "    skor = f1_score(y_test, y_pred, average='macro')\n",
    "    print(f\"{i} fitur teratas : {skor}\")\n",
    "    sweet_spot[i] = skor"
   ]
  },
  {
   "cell_type": "code",
   "execution_count": 17,
   "metadata": {},
   "outputs": [
    {
     "data": {
      "text/plain": [
       "<Axes: ylabel='f1_score'>"
      ]
     },
     "execution_count": 17,
     "metadata": {},
     "output_type": "execute_result"
    },
    {
     "data": {
      "image/png": "[encoded data removed]",
      "text/plain": [
       "<Figure size 432x288 with 1 Axes>"
      ]
     },
     "metadata": {
      "needs_background": "light"
     },
     "output_type": "display_data"
    }
   ],
   "source": [
    "sweet_spot = pd.DataFrame.from_dict(sweet_spot, orient='index', columns=['f1_score'])\n",
    "sweet_spot.sort_values(by='f1_score', ascending=False, inplace=True)\n",
    "\n",
    "sns.lineplot(x=sweet_spot.index, y=sweet_spot.f1_score)"
   ]
  },
  {
   "cell_type": "code",
   "execution_count": 18,
   "metadata": {},
   "outputs": [
    {
     "data": {
      "text/html": [
       "<div>\n",
       "<style scoped>\n",
       "    .dataframe tbody tr th:only-of-type {\n",
       "        vertical-align: middle;\n",
       "    }\n",
       "\n",
       "    .dataframe tbody tr th {\n",
       "        vertical-align: top;\n",
       "    }\n",
       "\n",
       "    .dataframe thead th {\n",
       "        text-align: right;\n",
       "    }\n",
       "</style>\n",
       "<table border=\"1\" class=\"dataframe\">\n",
       "  <thead>\n",
       "    <tr style=\"text-align: right;\">\n",
       "      <th></th>\n",
       "      <th>f1_score</th>\n",
       "    </tr>\n",
       "  </thead>\n",
       "  <tbody>\n",
       "    <tr>\n",
       "      <th>88</th>\n",
       "      <td>0.815585</td>\n",
       "    </tr>\n",
       "    <tr>\n",
       "      <th>99</th>\n",
       "      <td>0.815093</td>\n",
       "    </tr>\n",
       "    <tr>\n",
       "      <th>76</th>\n",
       "      <td>0.815069</td>\n",
       "    </tr>\n",
       "    <tr>\n",
       "      <th>60</th>\n",
       "      <td>0.815051</td>\n",
       "    </tr>\n",
       "    <tr>\n",
       "      <th>79</th>\n",
       "      <td>0.814829</td>\n",
       "    </tr>\n",
       "    <tr>\n",
       "      <th>67</th>\n",
       "      <td>0.814766</td>\n",
       "    </tr>\n",
       "    <tr>\n",
       "      <th>56</th>\n",
       "      <td>0.814743</td>\n",
       "    </tr>\n",
       "    <tr>\n",
       "      <th>70</th>\n",
       "      <td>0.814672</td>\n",
       "    </tr>\n",
       "    <tr>\n",
       "      <th>100</th>\n",
       "      <td>0.814663</td>\n",
       "    </tr>\n",
       "    <tr>\n",
       "      <th>94</th>\n",
       "      <td>0.814639</td>\n",
       "    </tr>\n",
       "  </tbody>\n",
       "</table>\n",
       "</div>"
      ],
      "text/plain": [
       "     f1_score\n",
       "88   0.815585\n",
       "99   0.815093\n",
       "76   0.815069\n",
       "60   0.815051\n",
       "79   0.814829\n",
       "67   0.814766\n",
       "56   0.814743\n",
       "70   0.814672\n",
       "100  0.814663\n",
       "94   0.814639"
      ]
     },
     "execution_count": 18,
     "metadata": {},
     "output_type": "execute_result"
    }
   ],
   "source": [
    "sweet_spot.head(10)"
   ]
  },
  {
   "cell_type": "code",
   "execution_count": 19,
   "metadata": {},
   "outputs": [],
   "source": [
    "from collections import Counter"
   ]
  },
  {
   "cell_type": "code",
   "execution_count": 20,
   "metadata": {},
   "outputs": [
    {
     "name": "stdout",
     "output_type": "stream",
     "text": [
      "F1 score: 0.8155851446694757\n"
     ]
    }
   ],
   "source": [
    "X_train_selected = X_train.toarray()[:, r_selected_features[:88].index]\n",
    "X_test_selected = X_test.toarray()[:, r_selected_features[:88].index]\n",
    "\n",
    "r_tuned = RandomForestClassifier(**params, random_state=42, n_jobs=6)\n",
    "r_tuned.fit(X_train_selected, y_rus)\n",
    "\n",
    "y_pred = r_tuned.predict(X_test_selected)\n",
    "\n",
    "print(f\"F1 score: {f1_score(y_test, y_pred, average='macro')}\")"
   ]
  },
  {
   "cell_type": "code",
   "execution_count": 22,
   "metadata": {},
   "outputs": [
    {
     "data": {
      "text/plain": [
       "[(4.0, 83097), (3.0, 66248), (2.0, 41218), (1.0, 35119), (0.0, 16400)]"
      ]
     },
     "execution_count": 22,
     "metadata": {},
     "output_type": "execute_result"
    }
   ],
   "source": [
    "submit_df = Preprocessor.transform(test)\n",
    "submit_df = submit_df.toarray()[:, r_selected_features[:88].index]\n",
    "y_pred_sub = r_tuned.predict(submit_df)\n",
    "\n",
    "Counter(y_pred_sub).most_common()"
   ]
  },
  {
   "cell_type": "code",
   "execution_count": 23,
   "metadata": {},
   "outputs": [
    {
     "data": {
      "text/html": [
       "<div>\n",
       "<style scoped>\n",
       "    .dataframe tbody tr th:only-of-type {\n",
       "        vertical-align: middle;\n",
       "    }\n",
       "\n",
       "    .dataframe tbody tr th {\n",
       "        vertical-align: top;\n",
       "    }\n",
       "\n",
       "    .dataframe thead th {\n",
       "        text-align: right;\n",
       "    }\n",
       "</style>\n",
       "<table border=\"1\" class=\"dataframe\">\n",
       "  <thead>\n",
       "    <tr style=\"text-align: right;\">\n",
       "      <th></th>\n",
       "      <th>id</th>\n",
       "      <th>damage_grade</th>\n",
       "    </tr>\n",
       "  </thead>\n",
       "  <tbody>\n",
       "    <tr>\n",
       "      <th>0</th>\n",
       "      <td>0</td>\n",
       "      <td>4</td>\n",
       "    </tr>\n",
       "    <tr>\n",
       "      <th>1</th>\n",
       "      <td>1</td>\n",
       "      <td>5</td>\n",
       "    </tr>\n",
       "    <tr>\n",
       "      <th>2</th>\n",
       "      <td>2</td>\n",
       "      <td>5</td>\n",
       "    </tr>\n",
       "    <tr>\n",
       "      <th>3</th>\n",
       "      <td>3</td>\n",
       "      <td>4</td>\n",
       "    </tr>\n",
       "    <tr>\n",
       "      <th>4</th>\n",
       "      <td>4</td>\n",
       "      <td>2</td>\n",
       "    </tr>\n",
       "  </tbody>\n",
       "</table>\n",
       "</div>"
      ],
      "text/plain": [
       "   id  damage_grade\n",
       "0   0             4\n",
       "1   1             5\n",
       "2   2             5\n",
       "3   3             4\n",
       "4   4             2"
      ]
     },
     "execution_count": 23,
     "metadata": {},
     "output_type": "execute_result"
    }
   ],
   "source": [
    "submission = pd.read_csv(\"../../dataset/raw/sample_submission.csv\")\n",
    "submission[\"damage_grade\"] = y_pred_sub + 1\n",
    "submission[\"damage_grade\"] = submission[\"damage_grade\"].astype(int)\n",
    "submission.head()"
   ]
  },
  {
   "cell_type": "code",
   "execution_count": 107,
   "metadata": {},
   "outputs": [],
   "source": [
    "submission.to_csv(\"../../dataset/submission_rf_feat_select_tuned_BISMILLAH YA ALLAH.csv\", index=False)"
   ]
  }
 ],
 "metadata": {
  "kernelspec": {
   "display_name": "DataScience",
   "language": "python",
   "name": "python3"
  },
  "language_info": {
   "codemirror_mode": {
    "name": "ipython",
    "version": 3
   },
   "file_extension": ".py",
   "mimetype": "text/x-python",
   "name": "python",
   "nbconvert_exporter": "python",
   "pygments_lexer": "ipython3",
   "version": "3.9.6"
  },
  "orig_nbformat": 4,
  "vscode": {
   "interpreter": {
    "hash": "d3120404ab40088dde46363bad1bdd78d1aeca7b6f18e79999fc72cb3d9151a5"
   }
  }
 },
 "nbformat": 4,
 "nbformat_minor": 2
}
