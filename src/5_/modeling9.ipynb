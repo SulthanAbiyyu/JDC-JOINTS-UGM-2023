{
 "cells": [
  {
   "cell_type": "code",
   "execution_count": 1,
   "metadata": {},
   "outputs": [],
   "source": [
    "import pandas as pd \n",
    "import numpy as np\n",
    "from sklearn.model_selection import train_test_split\n",
    "from catboost import CatBoostClassifier,Pool\n",
    "from sklearn.metrics import f1_score\n",
    "from sklearn.preprocessing import MinMaxScaler\n",
    "import plotly.express as px"
   ]
  },
  {
   "cell_type": "code",
   "execution_count": 35,
   "metadata": {},
   "outputs": [],
   "source": [
    "df_train = pd.read_csv('../../dataset/processed/masrapi/clear_train_fill.csv',index_col=0)\n",
    "df_test = pd.read_csv('../../dataset/processed/masrapi/clear_test_fill.csv',index_col=0)"
   ]
  },
  {
   "cell_type": "code",
   "execution_count": 36,
   "metadata": {},
   "outputs": [
    {
     "data": {
      "text/html": [
       "<div>\n",
       "<style scoped>\n",
       "    .dataframe tbody tr th:only-of-type {\n",
       "        vertical-align: middle;\n",
       "    }\n",
       "\n",
       "    .dataframe tbody tr th {\n",
       "        vertical-align: top;\n",
       "    }\n",
       "\n",
       "    .dataframe thead th {\n",
       "        text-align: right;\n",
       "    }\n",
       "</style>\n",
       "<table border=\"1\" class=\"dataframe\">\n",
       "  <thead>\n",
       "    <tr style=\"text-align: right;\">\n",
       "      <th></th>\n",
       "      <th>type_of_foundation</th>\n",
       "      <th>type_of_roof</th>\n",
       "      <th>type_of_ground_floor</th>\n",
       "      <th>type_of_other_floor</th>\n",
       "      <th>position</th>\n",
       "      <th>building_plan_configuration</th>\n",
       "      <th>technical_solution_proposed</th>\n",
       "      <th>legal_ownership_status</th>\n",
       "      <th>type_of_reinforcement_concrete</th>\n",
       "      <th>residential_type</th>\n",
       "      <th>public_place_type</th>\n",
       "      <th>industrial_use_type</th>\n",
       "      <th>govermental_use_type</th>\n",
       "      <th>flexible_superstructure</th>\n",
       "      <th>wall_binding</th>\n",
       "      <th>wall_material</th>\n",
       "    </tr>\n",
       "  </thead>\n",
       "  <tbody>\n",
       "    <tr>\n",
       "      <th>count</th>\n",
       "      <td>301607</td>\n",
       "      <td>301607</td>\n",
       "      <td>301607</td>\n",
       "      <td>301607</td>\n",
       "      <td>301607</td>\n",
       "      <td>301607</td>\n",
       "      <td>301607</td>\n",
       "      <td>301607</td>\n",
       "      <td>301607</td>\n",
       "      <td>301607</td>\n",
       "      <td>301607</td>\n",
       "      <td>301607</td>\n",
       "      <td>301607</td>\n",
       "      <td>301607</td>\n",
       "      <td>301607</td>\n",
       "      <td>301607</td>\n",
       "    </tr>\n",
       "    <tr>\n",
       "      <th>unique</th>\n",
       "      <td>6</td>\n",
       "      <td>5</td>\n",
       "      <td>9</td>\n",
       "      <td>6</td>\n",
       "      <td>4</td>\n",
       "      <td>10</td>\n",
       "      <td>4</td>\n",
       "      <td>4</td>\n",
       "      <td>4</td>\n",
       "      <td>5</td>\n",
       "      <td>2</td>\n",
       "      <td>9</td>\n",
       "      <td>3</td>\n",
       "      <td>2</td>\n",
       "      <td>6</td>\n",
       "      <td>4</td>\n",
       "    </tr>\n",
       "    <tr>\n",
       "      <th>top</th>\n",
       "      <td>clay sand mixed mortar-stone/brick</td>\n",
       "      <td>bamboo or timber light roof</td>\n",
       "      <td>clay</td>\n",
       "      <td>timber mud or bamboo-mud</td>\n",
       "      <td>Not attached</td>\n",
       "      <td>Rectangular</td>\n",
       "      <td>Reconstruction</td>\n",
       "      <td>Private</td>\n",
       "      <td>No reinforcement concrete</td>\n",
       "      <td>Non-residential</td>\n",
       "      <td>Non-public</td>\n",
       "      <td>Non-industrial</td>\n",
       "      <td>Non-govermental</td>\n",
       "      <td>unavailable</td>\n",
       "      <td>Mud + Mortar,Clay</td>\n",
       "      <td>Stone Bricks</td>\n",
       "    </tr>\n",
       "    <tr>\n",
       "      <th>freq</th>\n",
       "      <td>124529</td>\n",
       "      <td>139695</td>\n",
       "      <td>202937</td>\n",
       "      <td>169267</td>\n",
       "      <td>239044</td>\n",
       "      <td>289551</td>\n",
       "      <td>182496</td>\n",
       "      <td>289344</td>\n",
       "      <td>284897</td>\n",
       "      <td>287176</td>\n",
       "      <td>301038</td>\n",
       "      <td>279643</td>\n",
       "      <td>301523</td>\n",
       "      <td>277406</td>\n",
       "      <td>242935</td>\n",
       "      <td>244058</td>\n",
       "    </tr>\n",
       "  </tbody>\n",
       "</table>\n",
       "</div>"
      ],
      "text/plain": [
       "                        type_of_foundation                 type_of_roof  \\\n",
       "count                               301607                       301607   \n",
       "unique                                   6                            5   \n",
       "top     clay sand mixed mortar-stone/brick  bamboo or timber light roof   \n",
       "freq                                124529                       139695   \n",
       "\n",
       "       type_of_ground_floor       type_of_other_floor      position  \\\n",
       "count                301607                    301607        301607   \n",
       "unique                    9                         6             4   \n",
       "top                    clay  timber mud or bamboo-mud  Not attached   \n",
       "freq                 202937                    169267        239044   \n",
       "\n",
       "       building_plan_configuration technical_solution_proposed  \\\n",
       "count                       301607                      301607   \n",
       "unique                          10                           4   \n",
       "top                    Rectangular              Reconstruction   \n",
       "freq                        289551                      182496   \n",
       "\n",
       "       legal_ownership_status type_of_reinforcement_concrete residential_type  \\\n",
       "count                  301607                         301607           301607   \n",
       "unique                      4                              4                5   \n",
       "top                   Private      No reinforcement concrete  Non-residential   \n",
       "freq                   289344                         284897           287176   \n",
       "\n",
       "       public_place_type industrial_use_type govermental_use_type  \\\n",
       "count             301607              301607               301607   \n",
       "unique                 2                   9                    3   \n",
       "top           Non-public      Non-industrial      Non-govermental   \n",
       "freq              301038              279643               301523   \n",
       "\n",
       "       flexible_superstructure       wall_binding wall_material  \n",
       "count                   301607             301607        301607  \n",
       "unique                       2                  6             4  \n",
       "top                unavailable  Mud + Mortar,Clay  Stone Bricks  \n",
       "freq                    277406             242935        244058  "
      ]
     },
     "execution_count": 36,
     "metadata": {},
     "output_type": "execute_result"
    }
   ],
   "source": [
    "df_train.describe(include='O')"
   ]
  },
  {
   "cell_type": "code",
   "execution_count": 37,
   "metadata": {},
   "outputs": [],
   "source": [
    "land_surface_condition_dict = {\n",
    "    'Flat' : 0,\n",
    "    'Moderate slope':1,\n",
    "    'Steep slope':2\n",
    "}\n",
    "df_train.land_surface_condition = df_train.land_surface_condition.replace(land_surface_condition_dict)\n",
    "df_test.land_surface_condition = df_test.land_surface_condition.replace(land_surface_condition_dict)"
   ]
  },
  {
   "cell_type": "code",
   "execution_count": 38,
   "metadata": {},
   "outputs": [],
   "source": [
    "position_dict = {\n",
    "    'Not attached':0,\n",
    "    'Attached-1 side':1,\n",
    "    'Attached-2 side':2,\n",
    "    'Attached-3 side':3,\n",
    "}\n",
    "df_train.position = df_train.position.replace(position_dict)\n",
    "df_test.position = df_test.position.replace(position_dict)"
   ]
  },
  {
   "cell_type": "code",
   "execution_count": 39,
   "metadata": {},
   "outputs": [],
   "source": [
    "technical_solution_proposed_dict = {\n",
    "    'No need':0,\n",
    "    'Minor repair':1,\n",
    "    'Major repair':2,\n",
    "    'Reconstruction':3,\n",
    "}\n",
    "df_train.technical_solution_proposed = df_train.technical_solution_proposed.replace(technical_solution_proposed_dict)\n",
    "df_test.technical_solution_proposed = df_test.technical_solution_proposed.replace(technical_solution_proposed_dict)"
   ]
  },
  {
   "cell_type": "code",
   "execution_count": 40,
   "metadata": {},
   "outputs": [],
   "source": [
    "industrial_use_type_dict = {\n",
    "    'Farm':'Others',\n",
    "    'Forest-based':'Others',\n",
    "    'Agro':'Others',\n",
    "    'Metallurgy':'Others'\n",
    "}\n",
    "df_train.industrial_use_type = df_train.industrial_use_type.replace(industrial_use_type_dict)\n",
    "df_test.industrial_use_type = df_test.industrial_use_type.replace(industrial_use_type_dict)"
   ]
  },
  {
   "cell_type": "code",
   "execution_count": 41,
   "metadata": {},
   "outputs": [],
   "source": [
    "building_plan_configuration_dict = {\n",
    "    'Multi-projected':'Others',\n",
    "    'T-shape':'Others',\n",
    "    'U-shape':'Others',\n",
    "    'E-shape':'Others',\n",
    "    'H-shape':'Others',\n",
    "    'Building with Central Courtyard':'Others',\n",
    "}\n",
    "df_train.building_plan_configuration = df_train.building_plan_configuration.replace(building_plan_configuration_dict)\n",
    "df_test.building_plan_configuration = df_test.building_plan_configuration.replace(building_plan_configuration_dict)"
   ]
  },
  {
   "cell_type": "code",
   "execution_count": 42,
   "metadata": {},
   "outputs": [],
   "source": [
    "type_of_ground_floor_dict = {\n",
    "    'lumber':'other',\n",
    "    'timber':'other',\n",
    "    'wood':'other',\n",
    "}\n",
    "df_train.type_of_ground_floor = df_train.type_of_ground_floor.replace(type_of_ground_floor_dict)\n",
    "df_test.type_of_ground_floor = df_test.type_of_ground_floor.replace(type_of_ground_floor_dict)"
   ]
  },
  {
   "cell_type": "code",
   "execution_count": 43,
   "metadata": {},
   "outputs": [],
   "source": [
    "# legal_ownership_status_dict = {\n",
    "#     'Private':0,\n",
    "#     'Institutional':1,\n",
    "#     'Other':1,\n",
    "#     'Public':1,\n",
    "# }\n",
    "# df_train.legal_ownership_status = df_train.legal_ownership_status.replace(legal_ownership_status_dict)\n",
    "# df_test.legal_ownership_status = df_test.legal_ownership_status.replace(legal_ownership_status_dict)"
   ]
  },
  {
   "cell_type": "code",
   "execution_count": 44,
   "metadata": {},
   "outputs": [
    {
     "data": {
      "text/plain": [
       "Private          289344\n",
       "Public             7686\n",
       "Institutional      3085\n",
       "Other              1492\n",
       "Name: legal_ownership_status, dtype: int64"
      ]
     },
     "execution_count": 44,
     "metadata": {},
     "output_type": "execute_result"
    }
   ],
   "source": [
    "df_train.legal_ownership_status.value_counts()"
   ]
  },
  {
   "cell_type": "code",
   "execution_count": 45,
   "metadata": {},
   "outputs": [],
   "source": [
    "public_place_type_dict = {\n",
    "    'Non-public':0,\n",
    "    'Public':1,\n",
    "}\n",
    "df_train.public_place_type = df_train.public_place_type.replace(public_place_type_dict)\n",
    "df_test.public_place_type = df_test.public_place_type.replace(public_place_type_dict)"
   ]
  },
  {
   "cell_type": "code",
   "execution_count": 46,
   "metadata": {},
   "outputs": [],
   "source": [
    "flexible_superstructure_dict = {\n",
    "    'unavailable':0,\n",
    "    'available':1,\n",
    "}\n",
    "df_train.flexible_superstructure = df_train.flexible_superstructure.replace(flexible_superstructure_dict)\n",
    "df_test.flexible_superstructure = df_test.flexible_superstructure.replace(flexible_superstructure_dict)"
   ]
  },
  {
   "cell_type": "code",
   "execution_count": 47,
   "metadata": {},
   "outputs": [],
   "source": [
    "# type_of_foundation_dict = {\n",
    "#     # 'clay sand mixed mortar-stone/brick':'traditional',\n",
    "#     # 'clay mortar-stone/brick':'traditional',\n",
    "#     # 'bamboo or timber':'traditional',\n",
    "#     # 'cement-stone/brick':'modern',\n",
    "#     # 'reinforced concrete':'modern',\n",
    "#     'reinforced concrete': 'strong',\n",
    "#     'cement-stone/brick' : 'relatively strong',\n",
    "#     'bamboo or timber' : 'relatively strong',\n",
    "#     'clay mortar-stone/brick' : 'weak',\n",
    "#     'clay sand mixed mortar-stone/brick' : 'weak',\n",
    "    \n",
    "# }\n",
    "# df_train.type_of_foundation = df_train.type_of_foundation.replace(type_of_foundation_dict)\n",
    "# df_test.type_of_foundation = df_test.type_of_foundation.replace(type_of_foundation_dict)\n",
    "# type_of_roof_dict = {\n",
    "#     # 'bamboo or timber light roof':0,\n",
    "#     # 'wood light roof or bamboo Heavy roof':0,\n",
    "#     # 'wood light roof or bamboo light roof':0,\n",
    "#     # 'bamboo/timber Heavy roof':0,\n",
    "#     # 'rcc/rb/rbc':1,\n",
    "#     'rcc/rb/rbc':2,\n",
    "#     'bamboo/timber heavy roof' :1,\n",
    "#     'wood light roof or bamboo heavy roof' : 1,\n",
    "#     'bamboo or timber light roof' : 0,\n",
    "#     'wood light roof or bamboo light roof' : 0,\n",
    "    \n",
    "# }\n",
    "# df_train.type_of_roof = df_train.type_of_roof.replace(type_of_roof_dict)\n",
    "# df_test.type_of_roof = df_test.type_of_roof.replace(type_of_roof_dict)\n",
    "# type_of_ground_floor_dict = {\n",
    "#     'clay':'weak',\n",
    "#     'mud':'weak',\n",
    "#     'soil, water, loam mixed':'weak',\n",
    "#     'brick or stone':'relatively strong',\n",
    "#     'reinforced concrete':'strong',\n",
    "    \n",
    "# }\n",
    "# df_train.type_of_ground_floor = df_train.type_of_ground_floor.replace(type_of_ground_floor_dict)\n",
    "# df_test.type_of_ground_floor = df_test.type_of_ground_floor.replace(type_of_ground_floor_dict)\n",
    "# type_of_other_floor_dict = {\n",
    "#     'not applicable':0,\n",
    "#     'wood-mud or bamboo mud':0,\n",
    "#     'wood-mud/bamboo-mud':0,\n",
    "#     'timber mud or bamboo-mud':1,\n",
    "#     'wood-plank':1,\n",
    "#     'timber-plank':1,\n",
    "#     'reinforced cement concrete/rb/rbc':2,\n",
    "#     # \n",
    "# }\n",
    "# df_train.type_of_other_floor = df_train.type_of_other_floor.replace(type_of_other_floor_dict)\n",
    "# df_test.type_of_other_floor = df_test.type_of_other_floor.replace(type_of_other_floor_dict)\n",
    "# residential_type_dict = {\n",
    "#     'Non-residential':0,\n",
    "#     'Hotel/Motel':1,\n",
    "#     'Rental Residential':1,\n",
    "#     'Housing':1,\n",
    "#     'Other':1,    \n",
    "# }\n",
    "# df_train.residential_type = df_train.residential_type.replace(residential_type_dict)\n",
    "# df_test.residential_type = df_test.residential_type.replace(residential_type_dict)\n",
    "# industrial_use_type_dict = {\n",
    "#     'Non-industrial':0,\n",
    "#     'Food':1,\n",
    "#     'Service/Tourism':1,\n",
    "#     'Manufacturing':1,\n",
    "#     'Infrastructure':1,    \n",
    "#     'Others':1,    \n",
    "# }\n",
    "# df_train.industrial_use_type = df_train.industrial_use_type.replace(industrial_use_type_dict)\n",
    "# df_test.industrial_use_type = df_test.industrial_use_type.replace(industrial_use_type_dict)\n",
    "# govermental_use_type_dict = {\n",
    "#     'Non-govermental':0,\n",
    "#     'Police Offices':1,\n",
    "#     'Govermental Buildings':1,\n",
    "# }\n",
    "# df_train.govermental_use_type = df_train.govermental_use_type.replace(govermental_use_type_dict)\n",
    "# df_test.govermental_use_type = df_test.govermental_use_type.replace(govermental_use_type_dict)"
   ]
  },
  {
   "cell_type": "code",
   "execution_count": 74,
   "metadata": {},
   "outputs": [
    {
     "data": {
      "text/plain": [
       "<Axes: ylabel='Frequency'>"
      ]
     },
     "execution_count": 74,
     "metadata": {},
     "output_type": "execute_result"
    },
    {
     "data": {
      "image/png": "[encoded data removed]",
      "text/plain": [
       "<Figure size 720x360 with 1 Axes>"
      ]
     },
     "metadata": {
      "needs_background": "light"
     },
     "output_type": "display_data"
    }
   ],
   "source": [
    "# drop old_building that is more than 500 years old\n",
    "df_train.drop(df_train[\"old_building\"][df_train[\"old_building\"] > 500].index, inplace=True)\n",
    "df_train[\"old_building\"].plot(kind=\"hist\", bins=50, figsize=(10, 5))"
   ]
  },
  {
   "cell_type": "code",
   "execution_count": 75,
   "metadata": {},
   "outputs": [
    {
     "data": {
      "text/plain": [
       "<Axes: ylabel='Frequency'>"
      ]
     },
     "execution_count": 75,
     "metadata": {},
     "output_type": "execute_result"
    },
    {
     "data": {
      "image/png": "[encoded data removed]",
      "text/plain": [
       "<Figure size 720x360 with 1 Axes>"
      ]
     },
     "metadata": {
      "needs_background": "light"
     },
     "output_type": "display_data"
    }
   ],
   "source": [
    "df_train.drop(\n",
    "    df_train[\"height_before_eq (ft)\"][df_train[\"height_before_eq (ft)\"] > 60].index, inplace=True)\n",
    "df_train[\"height_before_eq (ft)\"].plot(kind=\"hist\", bins=50, figsize=(10, 5))"
   ]
  },
  {
   "cell_type": "code",
   "execution_count": 76,
   "metadata": {},
   "outputs": [],
   "source": [
    "X = df_train.drop('damage_grade',axis=1)\n",
    "y = df_train.damage_grade\n",
    "X_train, X_test, y_train, y_test = train_test_split(X, y, test_size=0.25, random_state=69420, stratify=y)"
   ]
  },
  {
   "cell_type": "code",
   "execution_count": 77,
   "metadata": {},
   "outputs": [
    {
     "data": {
      "text/html": [
       "<div>\n",
       "<style scoped>\n",
       "    .dataframe tbody tr th:only-of-type {\n",
       "        vertical-align: middle;\n",
       "    }\n",
       "\n",
       "    .dataframe tbody tr th {\n",
       "        vertical-align: top;\n",
       "    }\n",
       "\n",
       "    .dataframe thead th {\n",
       "        text-align: right;\n",
       "    }\n",
       "</style>\n",
       "<table border=\"1\" class=\"dataframe\">\n",
       "  <thead>\n",
       "    <tr style=\"text-align: right;\">\n",
       "      <th></th>\n",
       "      <th>type_of_foundation</th>\n",
       "      <th>type_of_roof</th>\n",
       "      <th>type_of_ground_floor</th>\n",
       "      <th>type_of_other_floor</th>\n",
       "      <th>building_plan_configuration</th>\n",
       "      <th>legal_ownership_status</th>\n",
       "      <th>type_of_reinforcement_concrete</th>\n",
       "      <th>residential_type</th>\n",
       "      <th>industrial_use_type</th>\n",
       "      <th>govermental_use_type</th>\n",
       "      <th>wall_binding</th>\n",
       "      <th>wall_material</th>\n",
       "    </tr>\n",
       "  </thead>\n",
       "  <tbody>\n",
       "    <tr>\n",
       "      <th>count</th>\n",
       "      <td>225135</td>\n",
       "      <td>225135</td>\n",
       "      <td>225135</td>\n",
       "      <td>225135</td>\n",
       "      <td>225135</td>\n",
       "      <td>225135</td>\n",
       "      <td>225135</td>\n",
       "      <td>225135</td>\n",
       "      <td>225135</td>\n",
       "      <td>225135</td>\n",
       "      <td>225135</td>\n",
       "      <td>225135</td>\n",
       "    </tr>\n",
       "    <tr>\n",
       "      <th>unique</th>\n",
       "      <td>6</td>\n",
       "      <td>5</td>\n",
       "      <td>6</td>\n",
       "      <td>6</td>\n",
       "      <td>4</td>\n",
       "      <td>4</td>\n",
       "      <td>4</td>\n",
       "      <td>5</td>\n",
       "      <td>6</td>\n",
       "      <td>3</td>\n",
       "      <td>6</td>\n",
       "      <td>4</td>\n",
       "    </tr>\n",
       "    <tr>\n",
       "      <th>top</th>\n",
       "      <td>clay mortar-stone/brick</td>\n",
       "      <td>bamboo or timber light roof</td>\n",
       "      <td>clay</td>\n",
       "      <td>timber mud or bamboo-mud</td>\n",
       "      <td>Rectangular</td>\n",
       "      <td>Private</td>\n",
       "      <td>No reinforcement concrete</td>\n",
       "      <td>Non-residential</td>\n",
       "      <td>Non-industrial</td>\n",
       "      <td>Non-govermental</td>\n",
       "      <td>Mud + Mortar,Clay</td>\n",
       "      <td>Stone Bricks</td>\n",
       "    </tr>\n",
       "    <tr>\n",
       "      <th>freq</th>\n",
       "      <td>92859</td>\n",
       "      <td>104320</td>\n",
       "      <td>151412</td>\n",
       "      <td>126237</td>\n",
       "      <td>216173</td>\n",
       "      <td>216041</td>\n",
       "      <td>212565</td>\n",
       "      <td>214330</td>\n",
       "      <td>208839</td>\n",
       "      <td>225065</td>\n",
       "      <td>181332</td>\n",
       "      <td>182231</td>\n",
       "    </tr>\n",
       "  </tbody>\n",
       "</table>\n",
       "</div>"
      ],
      "text/plain": [
       "             type_of_foundation                 type_of_roof  \\\n",
       "count                    225135                       225135   \n",
       "unique                        6                            5   \n",
       "top     clay mortar-stone/brick  bamboo or timber light roof   \n",
       "freq                      92859                       104320   \n",
       "\n",
       "       type_of_ground_floor       type_of_other_floor  \\\n",
       "count                225135                    225135   \n",
       "unique                    6                         6   \n",
       "top                    clay  timber mud or bamboo-mud   \n",
       "freq                 151412                    126237   \n",
       "\n",
       "       building_plan_configuration legal_ownership_status  \\\n",
       "count                       225135                 225135   \n",
       "unique                           4                      4   \n",
       "top                    Rectangular                Private   \n",
       "freq                        216173                 216041   \n",
       "\n",
       "       type_of_reinforcement_concrete residential_type industrial_use_type  \\\n",
       "count                          225135           225135              225135   \n",
       "unique                              4                5                   6   \n",
       "top         No reinforcement concrete  Non-residential      Non-industrial   \n",
       "freq                           212565           214330              208839   \n",
       "\n",
       "       govermental_use_type       wall_binding wall_material  \n",
       "count                225135             225135        225135  \n",
       "unique                    3                  6             4  \n",
       "top         Non-govermental  Mud + Mortar,Clay  Stone Bricks  \n",
       "freq                 225065             181332        182231  "
      ]
     },
     "execution_count": 77,
     "metadata": {},
     "output_type": "execute_result"
    }
   ],
   "source": [
    "X_train.describe(include='O')"
   ]
  },
  {
   "cell_type": "code",
   "execution_count": 78,
   "metadata": {},
   "outputs": [
    {
     "data": {
      "text/plain": [
       "Counter({5.0: 81444, 3.0: 40396, 1.0: 23390, 2.0: 25617, 4.0: 54288})"
      ]
     },
     "execution_count": 78,
     "metadata": {},
     "output_type": "execute_result"
    }
   ],
   "source": [
    "from imblearn.under_sampling import RandomUnderSampler\n",
    "from collections import Counter\n",
    "Counter(y_train)"
   ]
  },
  {
   "cell_type": "code",
   "execution_count": 79,
   "metadata": {},
   "outputs": [],
   "source": [
    "# Initialize a RandomUnderSampler object\n",
    "rus = RandomUnderSampler(random_state=42)\n",
    "\n",
    "# Apply under-sampling to the training data only\n",
    "X_train_resampled, y_train_resampled = rus.fit_resample(X_train, y_train)"
   ]
  },
  {
   "cell_type": "code",
   "execution_count": 80,
   "metadata": {},
   "outputs": [],
   "source": [
    "# new_train_pd_dummies = pd.get_dummies(X_train_resampled[['type_of_foundation','type_of_roof']])\n",
    "# X_train_resampled.drop(['type_of_foundation','type_of_roof'],axis=1,inplace=True)\n",
    "\n",
    "# new_test_pd_dummies = pd.get_dummies(X_test[['type_of_foundation','type_of_roof']])\n",
    "# X_test.drop(['type_of_foundation','type_of_roof'],axis=1,inplace=True)\n",
    "\n",
    "\n",
    "# new_df_test = pd.get_dummies(df_test[['type_of_foundation','type_of_roof']])\n",
    "# df_test.drop(['type_of_foundation','type_of_roof'],axis=1,inplace=True)\n",
    "\n",
    "# X_train_resampled = pd.concat([X_train_resampled,new_train_pd_dummies],axis=1)\n",
    "# X_test = pd.concat([X_test,new_test_pd_dummies],axis=1)\n",
    "# df_test = pd.concat([df_test,new_df_test],axis=1)"
   ]
  },
  {
   "cell_type": "code",
   "execution_count": 81,
   "metadata": {},
   "outputs": [],
   "source": [
    "# cat"
   ]
  },
  {
   "cell_type": "code",
   "execution_count": 82,
   "metadata": {},
   "outputs": [],
   "source": [
    "cat = X_train_resampled.describe(include='O').columns"
   ]
  },
  {
   "cell_type": "code",
   "execution_count": 83,
   "metadata": {},
   "outputs": [],
   "source": [
    "import category_encoders as ce\n",
    "\n",
    "\n",
    "encoder = ce.TargetEncoder(return_df=True)\n",
    "X_train_resampled_loo = encoder.fit_transform(X_train_resampled[cat], y_train_resampled)\n",
    "\n",
    "X_train_resampled[cat] = X_train_resampled_loo\n",
    "\n",
    "X_test_loo = encoder.transform(X_test[cat])\n",
    "\n",
    "X_test[cat] = X_test_loo\n",
    "\n",
    "\n",
    "df_test_loo = encoder.transform(df_test[cat])\n",
    "\n",
    "df_test[cat] = df_test_loo"
   ]
  },
  {
   "cell_type": "code",
   "execution_count": 84,
   "metadata": {},
   "outputs": [
    {
     "name": "stdout",
     "output_type": "stream",
     "text": [
      "0.8132257864111704\n"
     ]
    }
   ],
   "source": [
    "from lightgbm import LGBMClassifier\n",
    "\n",
    "l = LGBMClassifier(random_state=69420)\n",
    "l.fit(X_train_resampled, y_train_resampled)\n",
    "\n",
    "y_pred = l.predict(X_test)\n",
    "print(f1_score(y_test, y_pred, average='macro'))"
   ]
  },
  {
   "cell_type": "code",
   "execution_count": null,
   "metadata": {},
   "outputs": [],
   "source": [
    "import optuna\n",
    "\n",
    "def lgbm_objective(trial):\n",
    "\n",
    "    params = {\n",
    "        \"objective\": \"multiclass\",\n",
    "        \"metric\": \"multi_logloss\",\n",
    "        \"verbosity\": -1,\n",
    "        \"boosting_type\": \"gbdt\",\n",
    "        \"num_class\": 5,\n",
    "        \"lambda_l1\": trial.suggest_float(\"lambda_l1\", 1e-8, 10.0, log=True),\n",
    "        \"lambda_l2\": trial.suggest_float(\"lambda_l2\", 1e-8, 10.0, log=True),\n",
    "        \"num_leaves\": trial.suggest_int(\"num_leaves\", 2, 256),\n",
    "        \"feature_fraction\": trial.suggest_float(\"feature_fraction\", 0.4, 1.0),\n",
    "        \"bagging_fraction\": trial.suggest_float(\"bagging_fraction\", 0.4, 1.0),\n",
    "        \"bagging_freq\": trial.suggest_int(\"bagging_freq\", 1, 7),\n",
    "        \"min_child_samples\": trial.suggest_int(\"min_child_samples\", 5, 100),\n",
    "    }\n",
    "\n",
    "    l = LGBMClassifier(**params, random_state=69420)\n",
    "    l.fit(X_train_resampled, y_train_resampled)\n",
    "\n",
    "    y_pred = l.predict(X_test)\n",
    "\n",
    "    return f1_score(y_test, y_pred, average=\"macro\")\n",
    "\n",
    "\n",
    "l_study = optuna.create_study(direction='maximize')\n",
    "l_study.optimize(lgbm_objective, n_trials=1000, n_jobs=6,\n",
    "                 timeout=60*15, show_progress_bar=True)\n"
   ]
  },
  {
   "cell_type": "code",
   "execution_count": 87,
   "metadata": {},
   "outputs": [
    {
     "data": {
      "text/plain": [
       "{'lambda_l1': 0.27941843683241274,\n",
       " 'lambda_l2': 1.2413509990278071e-06,\n",
       " 'num_leaves': 70,\n",
       " 'feature_fraction': 0.47976414906187437,\n",
       " 'bagging_fraction': 0.9907934291779357,\n",
       " 'bagging_freq': 7,\n",
       " 'min_child_samples': 52}"
      ]
     },
     "execution_count": 87,
     "metadata": {},
     "output_type": "execute_result"
    }
   ],
   "source": [
    "l_study.best_params"
   ]
  },
  {
   "cell_type": "code",
   "execution_count": 104,
   "metadata": {},
   "outputs": [
    {
     "name": "stdout",
     "output_type": "stream",
     "text": [
      "[LightGBM] [Warning] feature_fraction is set=0.47976414906187437, colsample_bytree=1.0 will be ignored. Current value: feature_fraction=0.47976414906187437\n",
      "[LightGBM] [Warning] lambda_l1 is set=0.27941843683241274, reg_alpha=0.0 will be ignored. Current value: lambda_l1=0.27941843683241274\n",
      "[LightGBM] [Warning] bagging_fraction is set=0.9907934291779357, subsample=1.0 will be ignored. Current value: bagging_fraction=0.9907934291779357\n",
      "[LightGBM] [Warning] lambda_l2 is set=1.2413509990278071e-06, reg_lambda=0.0 will be ignored. Current value: lambda_l2=1.2413509990278071e-06\n",
      "[LightGBM] [Warning] bagging_freq is set=7, subsample_freq=0 will be ignored. Current value: bagging_freq=7\n",
      "0.8169127175694791\n"
     ]
    }
   ],
   "source": [
    "params = {'lambda_l1': 0.27941843683241274,\n",
    "          'lambda_l2': 1.2413509990278071e-06,\n",
    "          'num_leaves': 70,\n",
    "          'feature_fraction': 0.47976414906187437,\n",
    "          'bagging_fraction': 0.9907934291779357,\n",
    "          'bagging_freq': 7,\n",
    "          'min_child_samples': 52}\n",
    "\n",
    "model = LGBMClassifier(**params, random_state=69420)\n",
    "model.fit(X_train_resampled, y_train_resampled)\n",
    "\n",
    "print(f1_score(y_test, model.predict(X_test), average='macro'))"
   ]
  },
  {
   "cell_type": "code",
   "execution_count": 105,
   "metadata": {},
   "outputs": [
    {
     "data": {
      "text/html": [
       "<div>\n",
       "<style scoped>\n",
       "    .dataframe tbody tr th:only-of-type {\n",
       "        vertical-align: middle;\n",
       "    }\n",
       "\n",
       "    .dataframe tbody tr th {\n",
       "        vertical-align: top;\n",
       "    }\n",
       "\n",
       "    .dataframe thead th {\n",
       "        text-align: right;\n",
       "    }\n",
       "</style>\n",
       "<table border=\"1\" class=\"dataframe\">\n",
       "  <thead>\n",
       "    <tr style=\"text-align: right;\">\n",
       "      <th></th>\n",
       "      <th>id</th>\n",
       "      <th>damage_grade</th>\n",
       "    </tr>\n",
       "  </thead>\n",
       "  <tbody>\n",
       "    <tr>\n",
       "      <th>0</th>\n",
       "      <td>0</td>\n",
       "      <td>4</td>\n",
       "    </tr>\n",
       "    <tr>\n",
       "      <th>1</th>\n",
       "      <td>1</td>\n",
       "      <td>4</td>\n",
       "    </tr>\n",
       "    <tr>\n",
       "      <th>2</th>\n",
       "      <td>2</td>\n",
       "      <td>4</td>\n",
       "    </tr>\n",
       "    <tr>\n",
       "      <th>3</th>\n",
       "      <td>3</td>\n",
       "      <td>4</td>\n",
       "    </tr>\n",
       "    <tr>\n",
       "      <th>4</th>\n",
       "      <td>4</td>\n",
       "      <td>2</td>\n",
       "    </tr>\n",
       "    <tr>\n",
       "      <th>...</th>\n",
       "      <td>...</td>\n",
       "      <td>...</td>\n",
       "    </tr>\n",
       "    <tr>\n",
       "      <th>242077</th>\n",
       "      <td>242077</td>\n",
       "      <td>3</td>\n",
       "    </tr>\n",
       "    <tr>\n",
       "      <th>242078</th>\n",
       "      <td>242078</td>\n",
       "      <td>5</td>\n",
       "    </tr>\n",
       "    <tr>\n",
       "      <th>242079</th>\n",
       "      <td>242079</td>\n",
       "      <td>1</td>\n",
       "    </tr>\n",
       "    <tr>\n",
       "      <th>242080</th>\n",
       "      <td>242080</td>\n",
       "      <td>4</td>\n",
       "    </tr>\n",
       "    <tr>\n",
       "      <th>242081</th>\n",
       "      <td>242081</td>\n",
       "      <td>4</td>\n",
       "    </tr>\n",
       "  </tbody>\n",
       "</table>\n",
       "<p>242082 rows × 2 columns</p>\n",
       "</div>"
      ],
      "text/plain": [
       "            id  damage_grade\n",
       "0            0             4\n",
       "1            1             4\n",
       "2            2             4\n",
       "3            3             4\n",
       "4            4             2\n",
       "...        ...           ...\n",
       "242077  242077             3\n",
       "242078  242078             5\n",
       "242079  242079             1\n",
       "242080  242080             4\n",
       "242081  242081             4\n",
       "\n",
       "[242082 rows x 2 columns]"
      ]
     },
     "execution_count": 105,
     "metadata": {},
     "output_type": "execute_result"
    }
   ],
   "source": [
    "hasil = model.predict(df_test.drop('id',axis=1))\n",
    "hasil = pd.DataFrame(hasil,index=df_test.id,columns=['damage_grade']).reset_index()\n",
    "hasil.damage_grade = hasil.damage_grade.astype('int32')\n",
    "hasil"
   ]
  },
  {
   "cell_type": "code",
   "execution_count": 90,
   "metadata": {},
   "outputs": [],
   "source": [
    "hasil.to_csv('../../dataset/submission_hasil9_lgbm.csv',index=False)"
   ]
  },
  {
   "cell_type": "code",
   "execution_count": 107,
   "metadata": {},
   "outputs": [],
   "source": [
    "mas = pd.read_csv(\"../../dataset/hasil9.csv\")"
   ]
  },
  {
   "cell_type": "code",
   "execution_count": 108,
   "metadata": {},
   "outputs": [
    {
     "data": {
      "text/plain": [
       "71192"
      ]
     },
     "execution_count": 108,
     "metadata": {},
     "output_type": "execute_result"
    }
   ],
   "source": [
    "np.sum(hasil[\"damage_grade\"] != mas[\"damage_grade\"])\n"
   ]
  },
  {
   "cell_type": "code",
   "execution_count": null,
   "metadata": {},
   "outputs": [],
   "source": []
  }
 ],
 "metadata": {
  "kernelspec": {
   "display_name": "DataScience",
   "language": "python",
   "name": "python3"
  },
  "language_info": {
   "codemirror_mode": {
    "name": "ipython",
    "version": 3
   },
   "file_extension": ".py",
   "mimetype": "text/x-python",
   "name": "python",
   "nbconvert_exporter": "python",
   "pygments_lexer": "ipython3",
   "version": "3.9.6"
  },
  "orig_nbformat": 4,
  "vscode": {
   "interpreter": {
    "hash": "d3120404ab40088dde46363bad1bdd78d1aeca7b6f18e79999fc72cb3d9151a5"
   }
  }
 },
 "nbformat": 4,
 "nbformat_minor": 2
}
