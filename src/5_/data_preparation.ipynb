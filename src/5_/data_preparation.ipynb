{
 "cells": [
  {
   "attachments": {},
   "cell_type": "markdown",
   "metadata": {},
   "source": [
    "META DATA"
   ]
  },
  {
   "attachments": {},
   "cell_type": "markdown",
   "metadata": {},
   "source": [
    "    No\tNama Fitur\tPenjelasan\n",
    "    1\tfloors_before_eq (total)\tjumlah total lantai pada bangunan sebelum gempa terjadi\n",
    "    2\told_building\tusia bangunan (tahun)\n",
    "    3\tplinth_area (ft^2)\tluas bangunan (ft^2)\n",
    "    4\theight_before_eq (ft)\ttinggi bangunan sebelum terjadi gempa (kaki)\n",
    "    5\tland_surface_condition\tkondisi permukaan tanah disaat bangunan akan dibangun\n",
    "    6\ttype_of_foundation\tjenis fondasi yang dipakai untuk bangunan tsb\n",
    "    7\ttype_of_roof\tjenis atap yang dipakai untuk bangunan tsb\n",
    "    8\ttype_of_ground_floor\tjenis lantai yang dipakai untuk ground-floor\n",
    "    9\ttype_of_other_floor\tjenis lantai yang dipakai untuk selain ground-floor\n",
    "    10\tposition\tPosisi bangunan tersebut apakah bersisian secara langsung dengan bangunan lain\n",
    "    11\tbuilding_plan_configuration\tkonfigurasi bangunan yang berkaitan dengan bentuk, ukuran, dan penempatan struktur utama bangunan\n",
    "    12\ttechnical_solution_proposed\tSolusi yang ditawarkan untuk bangunan yang terdampak gempa\n",
    "    13\tlegal_ownership_status\tStatus kepemilikan bangunan\n",
    "    14\thas_secondary_use\tKeterangan apakah bangunan memiliki kegunaan sekunder\n",
    "    15\ttype_of_reinforcement_concrete\tTipe beton bertulang/reinforcement concrete\n",
    "    16\tresidential_type\tTipe penggunaaan sebagai hunian\n",
    "    17\tno_family_residing\tJumlah keluarga yang tinggal dalam bangunan tersebut\n",
    "    18\tpublic_place_type\tTipe penggunaan sebagai tempat umum\n",
    "    19\tindustrial_use_type\tTipe industri\n",
    "    20\tgovermental_use_type\tTipe penggunaan sebagai bangunan pemerintahan\n",
    "    21\tflexible_superstructure\tKeterangan penggunaan superstructure yang fleksibel\n",
    "    22\twall_binding\tMaterial yang digunakan sebagai perekat bahan pembentuk dinding\n",
    "    23\twall_material\tMaterial dasar sebagai pembangun dinding\n",
    "    24\tdamage_grade\tTingkat kerusakan yang disebabkan oleh gempa (1-5)"
   ]
  },
  {
   "attachments": {},
   "cell_type": "markdown",
   "metadata": {},
   "source": [
    "    PENJELASAN ISI FITUR 22 dan 23\t\n",
    "    22\twall_binding\n",
    "    0\tUnknown/not stated\n",
    "    1\tClay\n",
    "    2\tMortar + Cement\n",
    "    3\tMortar + Cement, Clay\n",
    "    5\tMud + Mortar, Clay\n",
    "    7\tMud + Mortar, Clay, Cement + Mortar\n",
    "        \n",
    "    23\twall material\n",
    "    0\tUnknown/not stated\n",
    "    1\tRed Bricks\n",
    "    2\tStone Bricks\n",
    "    3\tRed Bricks, Stone Bricks"
   ]
  },
  {
   "attachments": {},
   "cell_type": "markdown",
   "metadata": {},
   "source": [
    "### Import Library"
   ]
  },
  {
   "cell_type": "code",
   "execution_count": 2,
   "metadata": {},
   "outputs": [],
   "source": [
    "import pandas as pd \n",
    "import numpy as np\n",
    "import regex as re"
   ]
  },
  {
   "attachments": {},
   "cell_type": "markdown",
   "metadata": {},
   "source": [
    "### Read\n",
    "read the data train & test"
   ]
  },
  {
   "cell_type": "code",
   "execution_count": 4,
   "metadata": {},
   "outputs": [],
   "source": [
    "df_train = pd.read_csv('cleanDataset.csv')\n",
    "df_test = pd.read_csv('cleanTest.csv')"
   ]
  },
  {
   "attachments": {},
   "cell_type": "markdown",
   "metadata": {},
   "source": [
    "### DATA PREPARATION\n",
    "dataset terdiri dari 2 jenis data, yaitu float dan object"
   ]
  },
  {
   "cell_type": "code",
   "execution_count": 5,
   "metadata": {},
   "outputs": [
    {
     "data": {
      "text/plain": [
       "Unnamed: 0                        0\n",
       "floors_before_eq (total)          0\n",
       "old_building                      0\n",
       "plinth_area (ft^2)                0\n",
       "height_before_eq (ft)             0\n",
       "land_surface_condition            0\n",
       "type_of_foundation                0\n",
       "type_of_roof                      0\n",
       "type_of_ground_floor              0\n",
       "type_of_other_floor               0\n",
       "position                          0\n",
       "building_plan_configuration       0\n",
       "technical_solution_proposed       0\n",
       "legal_ownership_status            0\n",
       "has_secondary_use                 0\n",
       "type_of_reinforcement_concrete    0\n",
       "residential_type                  0\n",
       "no_family_residing                0\n",
       "public_place_type                 0\n",
       "industrial_use_type               0\n",
       "govermental_use_type              0\n",
       "flexible_superstructure           0\n",
       "wall_binding                      0\n",
       "wall_material                     0\n",
       "damage_grade                      0\n",
       "dtype: int64"
      ]
     },
     "execution_count": 5,
     "metadata": {},
     "output_type": "execute_result"
    }
   ],
   "source": [
    "df_train.isna().sum()"
   ]
  },
  {
   "attachments": {},
   "cell_type": "markdown",
   "metadata": {},
   "source": [
    "ada banyak nilai yang null"
   ]
  },
  {
   "cell_type": "code",
   "execution_count": 6,
   "metadata": {},
   "outputs": [
    {
     "data": {
      "text/plain": [
       "Index(['old_building', 'plinth_area (ft^2)', 'height_before_eq (ft)',\n",
       "       'has_secondary_use', 'no_family_residing', 'damage_grade'],\n",
       "      dtype='object')"
      ]
     },
     "execution_count": 6,
     "metadata": {},
     "output_type": "execute_result"
    }
   ],
   "source": [
    "df_train.select_dtypes(include='float64').columns"
   ]
  },
  {
   "attachments": {},
   "cell_type": "markdown",
   "metadata": {},
   "source": [
    "float sebanyak 7"
   ]
  },
  {
   "cell_type": "code",
   "execution_count": 7,
   "metadata": {},
   "outputs": [
    {
     "data": {
      "text/plain": [
       "Index(['land_surface_condition', 'type_of_foundation', 'type_of_roof',\n",
       "       'type_of_ground_floor', 'type_of_other_floor', 'position',\n",
       "       'building_plan_configuration', 'technical_solution_proposed',\n",
       "       'legal_ownership_status', 'type_of_reinforcement_concrete',\n",
       "       'residential_type', 'public_place_type', 'industrial_use_type',\n",
       "       'govermental_use_type', 'flexible_superstructure', 'wall_binding',\n",
       "       'wall_material'],\n",
       "      dtype='object')"
      ]
     },
     "execution_count": 7,
     "metadata": {},
     "output_type": "execute_result"
    }
   ],
   "source": [
    "df_train.select_dtypes('object').columns"
   ]
  },
  {
   "attachments": {},
   "cell_type": "markdown",
   "metadata": {},
   "source": [
    "ada 18 columns yg bertipe object"
   ]
  },
  {
   "cell_type": "code",
   "execution_count": 8,
   "metadata": {},
   "outputs": [
    {
     "data": {
      "text/html": [
       "<div>\n",
       "<style scoped>\n",
       "    .dataframe tbody tr th:only-of-type {\n",
       "        vertical-align: middle;\n",
       "    }\n",
       "\n",
       "    .dataframe tbody tr th {\n",
       "        vertical-align: top;\n",
       "    }\n",
       "\n",
       "    .dataframe thead th {\n",
       "        text-align: right;\n",
       "    }\n",
       "</style>\n",
       "<table border=\"1\" class=\"dataframe\">\n",
       "  <thead>\n",
       "    <tr style=\"text-align: right;\">\n",
       "      <th></th>\n",
       "      <th>land_surface_condition</th>\n",
       "      <th>type_of_foundation</th>\n",
       "      <th>type_of_roof</th>\n",
       "      <th>type_of_ground_floor</th>\n",
       "      <th>type_of_other_floor</th>\n",
       "      <th>position</th>\n",
       "      <th>building_plan_configuration</th>\n",
       "      <th>technical_solution_proposed</th>\n",
       "      <th>legal_ownership_status</th>\n",
       "      <th>type_of_reinforcement_concrete</th>\n",
       "      <th>residential_type</th>\n",
       "      <th>public_place_type</th>\n",
       "      <th>industrial_use_type</th>\n",
       "      <th>govermental_use_type</th>\n",
       "      <th>flexible_superstructure</th>\n",
       "      <th>wall_binding</th>\n",
       "      <th>wall_material</th>\n",
       "    </tr>\n",
       "  </thead>\n",
       "  <tbody>\n",
       "    <tr>\n",
       "      <th>count</th>\n",
       "      <td>301607</td>\n",
       "      <td>301607</td>\n",
       "      <td>301607</td>\n",
       "      <td>301607</td>\n",
       "      <td>301607</td>\n",
       "      <td>301607</td>\n",
       "      <td>301607</td>\n",
       "      <td>301607</td>\n",
       "      <td>301607</td>\n",
       "      <td>301607</td>\n",
       "      <td>301607</td>\n",
       "      <td>301607</td>\n",
       "      <td>301607</td>\n",
       "      <td>301607</td>\n",
       "      <td>301607</td>\n",
       "      <td>301607</td>\n",
       "      <td>301607</td>\n",
       "    </tr>\n",
       "    <tr>\n",
       "      <th>unique</th>\n",
       "      <td>3</td>\n",
       "      <td>9</td>\n",
       "      <td>11</td>\n",
       "      <td>10</td>\n",
       "      <td>7</td>\n",
       "      <td>4</td>\n",
       "      <td>10</td>\n",
       "      <td>4</td>\n",
       "      <td>5</td>\n",
       "      <td>4</td>\n",
       "      <td>6</td>\n",
       "      <td>13</td>\n",
       "      <td>9</td>\n",
       "      <td>3</td>\n",
       "      <td>2</td>\n",
       "      <td>6</td>\n",
       "      <td>4</td>\n",
       "    </tr>\n",
       "    <tr>\n",
       "      <th>top</th>\n",
       "      <td>Flat</td>\n",
       "      <td>clay sand mixed mortar-stone/brick</td>\n",
       "      <td>bamboo/timber light roof</td>\n",
       "      <td>clay</td>\n",
       "      <td>timber/bamboo-mud</td>\n",
       "      <td>Not attached</td>\n",
       "      <td>Rectangular</td>\n",
       "      <td>Reconstruction</td>\n",
       "      <td>Private</td>\n",
       "      <td>No reinforcement concrete</td>\n",
       "      <td>Non-residential</td>\n",
       "      <td>Non-public</td>\n",
       "      <td>Non-industrial</td>\n",
       "      <td>Non-govermental</td>\n",
       "      <td>unavailable</td>\n",
       "      <td>Mud + Mortar,Clay</td>\n",
       "      <td>Stone Bricks</td>\n",
       "    </tr>\n",
       "    <tr>\n",
       "      <th>freq</th>\n",
       "      <td>250170</td>\n",
       "      <td>124529</td>\n",
       "      <td>79640</td>\n",
       "      <td>202937</td>\n",
       "      <td>169267</td>\n",
       "      <td>239044</td>\n",
       "      <td>289551</td>\n",
       "      <td>182496</td>\n",
       "      <td>289344</td>\n",
       "      <td>284897</td>\n",
       "      <td>287176</td>\n",
       "      <td>301038</td>\n",
       "      <td>279643</td>\n",
       "      <td>301523</td>\n",
       "      <td>277406</td>\n",
       "      <td>242935</td>\n",
       "      <td>244058</td>\n",
       "    </tr>\n",
       "  </tbody>\n",
       "</table>\n",
       "</div>"
      ],
      "text/plain": [
       "       land_surface_condition                  type_of_foundation  \\\n",
       "count                  301607                              301607   \n",
       "unique                      3                                   9   \n",
       "top                      Flat  clay sand mixed mortar-stone/brick   \n",
       "freq                   250170                              124529   \n",
       "\n",
       "                    type_of_roof type_of_ground_floor type_of_other_floor  \\\n",
       "count                     301607               301607              301607   \n",
       "unique                        11                   10                   7   \n",
       "top     bamboo/timber light roof                 clay   timber/bamboo-mud   \n",
       "freq                       79640               202937              169267   \n",
       "\n",
       "            position building_plan_configuration technical_solution_proposed  \\\n",
       "count         301607                      301607                      301607   \n",
       "unique             4                          10                           4   \n",
       "top     Not attached                 Rectangular              Reconstruction   \n",
       "freq          239044                      289551                      182496   \n",
       "\n",
       "       legal_ownership_status type_of_reinforcement_concrete residential_type  \\\n",
       "count                  301607                         301607           301607   \n",
       "unique                      5                              4                6   \n",
       "top                   Private      No reinforcement concrete  Non-residential   \n",
       "freq                   289344                         284897           287176   \n",
       "\n",
       "       public_place_type industrial_use_type govermental_use_type  \\\n",
       "count             301607              301607               301607   \n",
       "unique                13                   9                    3   \n",
       "top           Non-public      Non-industrial      Non-govermental   \n",
       "freq              301038              279643               301523   \n",
       "\n",
       "       flexible_superstructure       wall_binding wall_material  \n",
       "count                   301607             301607        301607  \n",
       "unique                       2                  6             4  \n",
       "top                unavailable  Mud + Mortar,Clay  Stone Bricks  \n",
       "freq                    277406             242935        244058  "
      ]
     },
     "execution_count": 8,
     "metadata": {},
     "output_type": "execute_result"
    }
   ],
   "source": [
    "df_train.describe(include='O')"
   ]
  },
  {
   "attachments": {},
   "cell_type": "markdown",
   "metadata": {},
   "source": [
    "#### Feature Floors_Before_EQ"
   ]
  },
  {
   "cell_type": "code",
   "execution_count": 9,
   "metadata": {},
   "outputs": [
    {
     "data": {
      "text/plain": [
       "array([2, 3, 1, 5, 4, 6, 8, 9, 7], dtype=int64)"
      ]
     },
     "execution_count": 9,
     "metadata": {},
     "output_type": "execute_result"
    }
   ],
   "source": [
    "df_train['floors_before_eq (total)'].unique()"
   ]
  },
  {
   "attachments": {},
   "cell_type": "markdown",
   "metadata": {},
   "source": [
    "story & floor sama aja cmn beda penggunaan katanya\n"
   ]
  },
  {
   "cell_type": "code",
   "execution_count": 10,
   "metadata": {},
   "outputs": [],
   "source": [
    "remove_list = ['floor','just','there','is','floor/story','story','has','fl',]\n",
    "change_list = {'two':2, '1st':1, 'fifth':5, 'three':3, 'one':1 ,'second':2, 'third':3, 'floor-three':3, 'four':4, 'five':5, '3.00':3}\n",
    "def clear_floors(x):\n",
    "    if pd.isna(x):\n",
    "        return x\n",
    "    else:\n",
    "        sentences = [y for y in x.lower().split() if y not in remove_list]\n",
    "        try:\n",
    "            sentences = int(sentences[0])\n",
    "        except:\n",
    "            sentences = change_list[sentences[0]]\n",
    "        finally:\n",
    "            return sentences"
   ]
  },
  {
   "cell_type": "code",
   "execution_count": 11,
   "metadata": {},
   "outputs": [],
   "source": [
    "# df_train['floors_before_eq (total)'].apply(clear_floors)\n",
    "# df_test['floors_before_eq (total)'].apply(clear_floors)"
   ]
  },
  {
   "cell_type": "code",
   "execution_count": 12,
   "metadata": {},
   "outputs": [],
   "source": [
    "# df_train['floors_before_eq (total)'] = df_train['floors_before_eq (total)'].apply(clear_floors)\n",
    "# df_test['floors_before_eq (total)'] = df_test['floors_before_eq (total)'].apply(clear_floors)"
   ]
  },
  {
   "attachments": {},
   "cell_type": "markdown",
   "metadata": {},
   "source": [
    "#### plinth_area (ft^2)"
   ]
  },
  {
   "cell_type": "code",
   "execution_count": 13,
   "metadata": {},
   "outputs": [
    {
     "data": {
      "text/plain": [
       "array([1.706880e+01, 3.002280e+02, 5.638800e+01, 2.743200e+01,\n",
       "       1.536192e+02, 1.877568e+02, 1.828800e+02, 1.524000e+02,\n",
       "       3.051048e+02, 1.115568e+02, 4.572000e+01, 9.144000e+01,\n",
       "       1.066800e+01, 1.091184e+02, 1.524000e+01, 1.097280e+02,\n",
       "       1.676400e+02, 9.448800e+01, 1.219200e+02, 2.240280e+02,\n",
       "       1.414272e+02, 1.158240e+02, 1.036320e+01, 1.170432e+02,\n",
       "       1.310640e+01, 1.143000e+02, 1.493520e+02, 2.377440e+02,\n",
       "       1.505712e+02, 2.377440e+01, 2.438400e+00, 1.447800e+02,\n",
       "       1.341120e+02, 2.438400e+01, 2.682240e+01, 1.121664e+02,\n",
       "       9.448800e+00, 1.371600e+02, 1.167384e+02, 1.371600e+01,\n",
       "       2.950464e+02, 0.000000e+00, 4.267200e+01, 1.249680e+02,\n",
       "       1.950720e+01, 5.913120e+01, 9.144000e+00, 1.335024e+02,\n",
       "       1.234440e+02, 3.962400e+01, 2.956560e+01, 1.676400e+01,\n",
       "       1.188720e+01, 5.364480e+01, 1.219200e+01, 1.219200e+00,\n",
       "       2.621280e+01, 1.109472e+02, 3.048000e+00, 1.356360e+02,\n",
       "       1.508760e+02, 1.036320e+02, 2.011680e+02, 1.207008e+02,\n",
       "       1.005840e+01, 1.828800e+01, 2.712720e+01, 1.548384e+02,\n",
       "       3.017520e+01, 1.975104e+02, 9.174480e+01, 1.981200e+01,\n",
       "       2.133600e+01, 1.658112e+02, 4.663440e+01, 2.133600e+02,\n",
       "       1.066800e+02, 2.590800e+01, 1.069848e+02, 5.303520e+01,\n",
       "       2.438400e+02, 9.601200e+01, 9.692640e+01, 5.273040e+01,\n",
       "       1.456944e+02, 1.417320e+02, 1.030224e+02, 1.402080e+01,\n",
       "       1.085088e+02, 1.472184e+02, 1.511808e+02, 1.615440e+01,\n",
       "       4.724400e+01, 5.791200e+01, 1.325880e+02, 1.524000e+00,\n",
       "       4.876800e+00, 2.133600e+00, 1.173480e+02, 5.486400e+01,\n",
       "       2.468880e+02, 1.158240e+01, 1.106424e+02, 1.798320e+02,\n",
       "       4.876800e+01, 1.322832e+02, 1.088136e+02, 1.618488e+02,\n",
       "       4.572000e+00, 1.310640e+02, 1.920240e+01, 1.267968e+02,\n",
       "       1.728216e+02, 1.810512e+02, 1.755648e+02, 1.481328e+02,\n",
       "       9.418320e+01, 1.152144e+02, 2.560320e+01, 5.394960e+01,\n",
       "       1.661160e+02, 9.296400e+01, 1.188720e+02, 5.212080e+01,\n",
       "       1.389888e+02, 1.792224e+02, 3.048000e+01, 1.060704e+02,\n",
       "       2.590800e+02, 2.407920e+01, 1.554480e+02, 1.402080e+02,\n",
       "       1.331976e+02, 1.246632e+02, 1.432560e+01, 1.100328e+02,\n",
       "       5.181600e+01, 4.267200e+00, 1.856232e+02, 9.144000e-01,\n",
       "       2.286000e+01, 2.926080e+02, 2.791968e+02, 1.179576e+02,\n",
       "       2.926080e+01, 2.743200e+02, 9.235440e+01, 3.048000e+02,\n",
       "       1.767840e+01, 1.484376e+02, 3.044952e+02, 1.048512e+02,\n",
       "       1.645920e+02, 2.895600e+01, 1.024128e+02, 5.029200e+01,\n",
       "       2.237232e+02, 2.286000e+02, 1.249680e+01, 1.365504e+02,\n",
       "       9.387840e+01, 3.017520e+02, 1.243584e+02, 5.486400e+00,\n",
       "       2.060448e+02, 1.359408e+02, 1.005840e+02, 1.767840e+02,\n",
       "       1.691640e+02, 9.265920e+01, 1.981200e+02, 2.487168e+02,\n",
       "       1.127760e+02, 1.478280e+02, 2.798064e+02, 2.026920e+02,\n",
       "       1.027176e+02, 1.191768e+02, 1.341120e+01, 1.950720e+02,\n",
       "       2.011680e+01, 1.274064e+02, 2.929128e+02, 6.035040e+01,\n",
       "       2.529840e+01, 4.389120e+01, 1.426464e+02, 1.679448e+02,\n",
       "       1.868424e+02, 2.621280e+02, 1.667256e+02, 2.054352e+02,\n",
       "       1.463040e+02, 5.974080e+01, 2.468880e+01, 1.737360e+01,\n",
       "       1.051560e+02, 2.157984e+02, 2.417064e+02, 1.542288e+02,\n",
       "       1.182624e+02, 2.270760e+02, 1.386840e+02, 1.737360e+02,\n",
       "       1.822704e+02, 1.551432e+02, 2.103120e+01, 1.399032e+02,\n",
       "       1.761744e+02, 5.730240e+01, 1.112520e+02, 2.916936e+02,\n",
       "       1.258824e+02, 5.181600e+00, 2.084832e+02, 3.352800e+01,\n",
       "       2.304288e+02, 1.645920e+01, 2.865120e+01, 1.033272e+02,\n",
       "       2.776728e+02, 1.146048e+02, 2.651760e+01, 1.758696e+02,\n",
       "       1.859280e+01, 1.615440e+02, 1.176528e+02, 1.493520e+01,\n",
       "       1.231392e+02, 1.261872e+02, 1.545336e+02, 1.563624e+02,\n",
       "       2.072640e+02, 1.097280e+01, 2.560320e+02, 1.082040e+02,\n",
       "       2.346960e+02, 2.225040e+01, 1.554480e+01, 1.045464e+02,\n",
       "       2.731008e+02, 1.502664e+02, 2.880360e+02, 2.987040e+01,\n",
       "       1.450848e+02, 1.706880e+02, 1.984248e+02, 2.316480e+01,\n",
       "       1.200912e+02, 1.139952e+02, 3.962400e+00, 1.920240e+02,\n",
       "       1.155192e+02, 2.087880e+02, 1.783080e+02, 1.850136e+02,\n",
       "       9.326880e+01, 2.298192e+02, 5.334000e+01, 2.453640e+02,\n",
       "       1.213104e+02, 1.237488e+02, 5.760720e+01, 9.631680e+01,\n",
       "       5.090160e+01, 1.039368e+02, 2.176272e+02, 3.014472e+02,\n",
       "       2.057400e+02, 1.344168e+02, 1.057656e+02, 1.149096e+02,\n",
       "       6.065520e+01, 1.380744e+02, 1.264920e+02, 1.636776e+02,\n",
       "       1.770888e+02, 1.054608e+02, 1.962912e+02, 2.773680e+01,\n",
       "       1.203960e+02, 4.114800e+01, 1.871472e+02, 5.791200e+00,\n",
       "       1.633728e+02, 2.301240e+02, 1.969008e+02, 2.965704e+02,\n",
       "       2.103120e+02, 1.999488e+02, 1.277112e+02, 2.895600e+02,\n",
       "       1.021080e+02, 2.715768e+02, 1.185672e+02, 2.145792e+02,\n",
       "       2.734056e+02, 2.072640e+01, 2.112264e+02, 2.252472e+02,\n",
       "       1.709928e+02, 1.078992e+02, 1.874520e+02, 9.479280e+01,\n",
       "       2.075688e+02, 1.130808e+02, 1.328928e+02, 1.780032e+02,\n",
       "       1.392936e+02, 2.420112e+02, 2.279904e+02, 4.480560e+01,\n",
       "       2.258568e+02, 1.828800e+00, 1.475232e+02, 5.943600e+01,\n",
       "       2.865120e+02, 2.090928e+02, 4.206240e+01, 1.639824e+02,\n",
       "       2.606040e+02, 2.651760e+02, 1.840992e+02, 1.353312e+02,\n",
       "       1.578864e+02, 4.754880e+01, 1.694688e+02, 1.514856e+02,\n",
       "       1.395984e+02, 2.005584e+02, 1.319784e+02, 1.798320e+01,\n",
       "       1.853184e+02, 1.859280e+02, 2.633472e+02, 1.432560e+02,\n",
       "       1.972056e+02, 1.216152e+02, 1.527048e+02, 1.664208e+02,\n",
       "       1.746504e+02, 3.048000e-01, 1.420368e+02, 2.255520e+01,\n",
       "       1.228344e+02, 1.222248e+02, 1.411224e+02, 1.685544e+02,\n",
       "       1.383792e+02, 2.743200e+00, 1.978152e+02, 9.570720e+01,\n",
       "       1.127760e+01, 5.455920e+01, 1.752600e+02, 1.740408e+02,\n",
       "       2.852928e+02, 2.365248e+02, 1.252728e+02, 2.401824e+02,\n",
       "       2.313432e+02, 4.419600e+01, 5.882640e+01, 4.511040e+01,\n",
       "       2.346960e+01, 2.371344e+02, 2.441448e+02, 2.834640e+01,\n",
       "       1.700784e+02, 5.120640e+01, 2.121408e+02, 9.357360e+01,\n",
       "       1.463040e+01, 1.575816e+02, 2.593848e+02, 1.624584e+02,\n",
       "       1.240536e+02, 2.042160e+01, 2.179320e+02, 1.124712e+02,\n",
       "       4.693920e+01, 2.407920e+02, 1.993392e+02, 2.164080e+02,\n",
       "       2.359152e+02, 1.539240e+02, 2.374392e+02, 1.569720e+02,\n",
       "       1.944624e+02, 2.249424e+02, 5.699760e+01, 2.164080e+01,\n",
       "       2.529840e+02, 2.316480e+02, 1.932432e+02, 1.271016e+02,\n",
       "       5.608320e+01, 1.197864e+02, 3.383280e+01, 2.243328e+02,\n",
       "       2.255520e+02, 2.624328e+02, 3.200400e+01, 1.566672e+02,\n",
       "       1.423416e+02, 3.291840e+01, 1.444752e+02, 2.389632e+02,\n",
       "       2.173224e+02, 1.313688e+02, 1.429512e+02, 2.432304e+02,\n",
       "       2.834640e+02, 2.563368e+02, 2.496312e+02, 2.036064e+02,\n",
       "       2.971800e+02, 2.609088e+02, 1.795272e+02, 1.630680e+02,\n",
       "       2.039112e+02, 2.188464e+02, 2.225040e+02, 1.453896e+02,\n",
       "       2.368296e+02, 1.786128e+02, 1.813560e+02, 1.368552e+02,\n",
       "       2.008632e+02, 1.816608e+02, 1.703832e+02, 1.063752e+02,\n",
       "       2.447544e+02, 1.847088e+02, 3.566160e+01, 4.084320e+01,\n",
       "       1.459992e+02, 2.295144e+02, 2.319528e+02, 1.627632e+02,\n",
       "       2.987040e+02, 2.551176e+02, 1.886712e+02, 2.837688e+02,\n",
       "       2.490216e+02, 3.322320e+01, 1.572768e+02, 4.450080e+01,\n",
       "       1.965960e+02, 1.722120e+02, 1.883664e+02, 2.100072e+02,\n",
       "       1.466088e+02, 2.267712e+02, 2.980944e+02, 2.548128e+02,\n",
       "       3.352800e+00, 9.540240e+01, 2.913888e+02, 2.014728e+02,\n",
       "       2.667000e+02, 2.785872e+02, 2.737104e+02, 9.662160e+01,\n",
       "       1.075944e+02, 2.020824e+02, 1.837944e+02, 2.575560e+02,\n",
       "       2.663952e+02, 2.404872e+02, 1.749552e+02, 1.719072e+02,\n",
       "       5.669280e+01, 1.018032e+02, 1.844040e+02, 2.395728e+02,\n",
       "       2.386584e+02, 1.776984e+02, 5.516880e+01, 1.118616e+02,\n",
       "       4.541520e+01, 5.151120e+01, 4.998720e+01, 1.014984e+02,\n",
       "       2.773680e+02, 2.910840e+02, 1.688592e+02, 3.005328e+02,\n",
       "       1.557528e+02, 2.481072e+02, 3.505200e+01, 1.670304e+02,\n",
       "       3.474720e+01, 1.210056e+02, 1.161288e+02, 2.328672e+02,\n",
       "       1.487424e+02, 2.142744e+02, 1.441704e+02, 4.602480e+01,\n",
       "       2.029968e+02, 1.807464e+02, 1.789176e+02, 1.136904e+02,\n",
       "       1.959864e+02, 1.374648e+02, 1.947672e+02, 2.642616e+02,\n",
       "       2.331720e+02, 5.059680e+01, 1.990344e+02, 1.490472e+02,\n",
       "       2.907792e+02, 4.815840e+01, 2.310384e+02, 2.069592e+02,\n",
       "       2.758440e+02, 4.968240e+01, 2.042160e+02, 1.008888e+02,\n",
       "       1.533144e+02, 2.115312e+02, 2.063496e+02, 9.723120e+01,\n",
       "       2.097024e+02, 1.350264e+02, 5.425440e+01, 1.362456e+02,\n",
       "       2.712720e+02, 2.843784e+02, 3.535680e+01, 2.889504e+02,\n",
       "       2.246376e+02, 2.033016e+02, 1.764792e+02, 2.682240e+02,\n",
       "       2.706624e+02, 4.297680e+01, 2.276856e+02, 1.929384e+02,\n",
       "       1.725168e+02, 2.874264e+02, 2.557272e+02, 1.716024e+02,\n",
       "       1.731264e+02, 2.599944e+02, 2.093976e+02, 2.996184e+02,\n",
       "       1.673352e+02, 1.880616e+02, 2.636520e+02, 3.627120e+01,\n",
       "       1.697736e+02, 1.520952e+02, 2.670048e+02, 2.124456e+02,\n",
       "       4.145280e+01, 1.517904e+02, 2.282952e+02, 4.358640e+01,\n",
       "       2.023872e+02, 2.740152e+02, 2.450592e+02, 1.862328e+02,\n",
       "       2.953512e+02, 1.338072e+02, 2.478024e+02, 4.846320e+01,\n",
       "       2.151888e+02, 2.721864e+02, 2.569464e+02, 3.169920e+01,\n",
       "       2.883408e+02, 3.011424e+02, 2.694432e+02, 2.782824e+02,\n",
       "       2.956560e+02, 2.106168e+02, 2.362200e+02, 1.655064e+02,\n",
       "       5.577840e+01, 2.691384e+02, 3.261360e+01, 2.700528e+02,\n",
       "       1.819656e+02, 1.648968e+02, 2.542032e+02, 2.645664e+02,\n",
       "       1.094232e+02, 2.602992e+02, 2.136648e+02, 2.752344e+02,\n",
       "       1.938528e+02, 2.892552e+02, 4.785360e+01, 1.923288e+02,\n",
       "       6.004560e+01, 1.831848e+02, 1.935480e+02, 2.615184e+02,\n",
       "       1.734312e+02, 2.340864e+02, 1.496568e+02, 2.002536e+02,\n",
       "       2.118360e+02, 4.236720e+01, 2.148840e+02, 4.175760e+01,\n",
       "       2.788920e+02, 2.456688e+02, 3.032760e+02, 2.676144e+02,\n",
       "       2.679192e+02, 2.538984e+02, 2.127504e+02, 2.426208e+02,\n",
       "       2.289048e+02, 2.182368e+02, 2.398776e+02, 2.572512e+02,\n",
       "       1.941576e+02, 1.825752e+02, 3.596640e+01, 1.953768e+02,\n",
       "       2.983992e+02, 2.801112e+02, 3.041904e+02, 2.325624e+02,\n",
       "       2.380488e+02, 2.859024e+02, 2.167128e+02, 2.051304e+02,\n",
       "       1.801368e+02, 2.392680e+02, 2.877312e+02, 2.423160e+02,\n",
       "       2.081784e+02, 2.484120e+02, 2.578608e+02, 2.755392e+02,\n",
       "       2.459736e+02, 2.228088e+02, 2.941320e+02, 2.767584e+02,\n",
       "       3.444240e+01, 1.435608e+02, 2.639568e+02, 2.904744e+02,\n",
       "       2.673096e+02, 5.821680e+01, 2.532888e+02, 1.581912e+02,\n",
       "       2.724912e+02, 2.709672e+02, 2.350008e+02, 1.405128e+02,\n",
       "       2.234184e+02, 4.907280e+01, 2.161032e+02, 2.185416e+02,\n",
       "       2.264664e+02, 3.139440e+01, 2.990088e+02, 2.999232e+02,\n",
       "       2.435352e+02, 2.935224e+02, 2.307336e+02, 2.727960e+02,\n",
       "       2.066544e+02, 3.026664e+02, 3.020568e+02, 2.697480e+02,\n",
       "       1.996440e+02, 2.587752e+02, 3.029712e+02, 3.230880e+01,\n",
       "       3.078480e+01, 2.410968e+02, 3.008376e+02, 2.343912e+02,\n",
       "       2.465832e+02, 2.471928e+02, 3.035808e+02, 2.761488e+02,\n",
       "       2.273808e+02, 2.968752e+02, 2.944368e+02, 2.886456e+02,\n",
       "       2.770632e+02, 2.685288e+02, 4.053840e+01, 2.356104e+02,\n",
       "       2.862072e+02, 1.642872e+02, 2.855976e+02, 2.130552e+02,\n",
       "       2.703576e+02, 2.648712e+02, 2.493264e+02, 2.584704e+02,\n",
       "       2.868168e+02, 2.612136e+02, 2.462784e+02, 2.545080e+02,\n",
       "       2.938272e+02, 3.992880e+01, 2.334768e+02, 2.846832e+02,\n",
       "       2.746248e+02, 2.849880e+02, 2.618232e+02, 2.919984e+02,\n",
       "       2.191512e+02, 2.795016e+02, 2.660904e+02, 2.045208e+02,\n",
       "       2.974848e+02, 2.337816e+02, 2.154936e+02, 2.554224e+02,\n",
       "       2.654808e+02, 2.581656e+02, 2.959608e+02, 2.923032e+02,\n",
       "       2.947416e+02, 2.764536e+02, 2.898648e+02, 2.630424e+02,\n",
       "       3.038856e+02, 2.429256e+02])"
      ]
     },
     "execution_count": 13,
     "metadata": {},
     "output_type": "execute_result"
    }
   ],
   "source": [
    "df_train['plinth_area (ft^2)'].unique()"
   ]
  },
  {
   "cell_type": "code",
   "execution_count": 14,
   "metadata": {},
   "outputs": [],
   "source": [
    "def clear_plinth_area(x):\n",
    "    if pd.isna(x):\n",
    "        return x\n",
    "    else:\n",
    "        sentences = re.sub('[ ft^2]','',x)\n",
    "        try:\n",
    "            sentences = int(sentences)\n",
    "        except:\n",
    "            sentences = 1001\n",
    "        return sentences*0.3048"
   ]
  },
  {
   "cell_type": "code",
   "execution_count": 15,
   "metadata": {},
   "outputs": [
    {
     "data": {
      "text/plain": [
       "0          17.0688\n",
       "1         300.2280\n",
       "2          56.3880\n",
       "3          27.4320\n",
       "4         153.6192\n",
       "            ...   \n",
       "301602     23.1648\n",
       "301603     13.1064\n",
       "301604     11.8872\n",
       "301605     91.4400\n",
       "301606     91.4400\n",
       "Name: plinth_area (ft^2), Length: 301607, dtype: float64"
      ]
     },
     "execution_count": 15,
     "metadata": {},
     "output_type": "execute_result"
    }
   ],
   "source": [
    "df_train['plinth_area (ft^2)']"
   ]
  },
  {
   "cell_type": "code",
   "execution_count": 17,
   "metadata": {},
   "outputs": [],
   "source": [
    "# df_train['plinth_area (ft^2)'].apply(clear_plinth_area)\n",
    "# df_test['plinth_area (ft^2)'].apply(clear_plinth_area)"
   ]
  },
  {
   "cell_type": "code",
   "execution_count": 19,
   "metadata": {},
   "outputs": [],
   "source": [
    "# df_train['plinth_area (ft^2)'] = df_train['plinth_area (ft^2)'].apply(clear_plinth_area)\n",
    "# df_test['plinth_area (ft^2)'] = df_test['plinth_area (ft^2)'].apply(clear_plinth_area)"
   ]
  },
  {
   "attachments": {},
   "cell_type": "markdown",
   "metadata": {},
   "source": [
    "#### land_surface_condition"
   ]
  },
  {
   "cell_type": "code",
   "execution_count": 20,
   "metadata": {},
   "outputs": [
    {
     "data": {
      "text/plain": [
       "array(['Flat', 'Moderate slope', 'Steep slope'], dtype=object)"
      ]
     },
     "execution_count": 20,
     "metadata": {},
     "output_type": "execute_result"
    }
   ],
   "source": [
    "df_train['land_surface_condition'].unique()"
   ]
  },
  {
   "cell_type": "code",
   "execution_count": 21,
   "metadata": {},
   "outputs": [
    {
     "data": {
      "text/plain": [
       "Flat              250170\n",
       "Moderate slope     41505\n",
       "Steep slope         9932\n",
       "Name: land_surface_condition, dtype: int64"
      ]
     },
     "execution_count": 21,
     "metadata": {},
     "output_type": "execute_result"
    }
   ],
   "source": [
    "df_train['land_surface_condition'].value_counts()"
   ]
  },
  {
   "attachments": {},
   "cell_type": "markdown",
   "metadata": {},
   "source": [
    "Moderate slopes: 10 - 15 % gradient. D. Steep. Steep slopes: 16 - 30 % gradient."
   ]
  },
  {
   "cell_type": "code",
   "execution_count": 22,
   "metadata": {},
   "outputs": [],
   "source": [
    "change_list = {'Flat':0,'Moderate slope':1,'Steep slope':2}\n",
    "def clear_plinth_area(x):\n",
    "    if pd.isna(x):\n",
    "        return x\n",
    "    else:\n",
    "        return change_list[x]"
   ]
  },
  {
   "cell_type": "code",
   "execution_count": 23,
   "metadata": {},
   "outputs": [
    {
     "data": {
      "text/plain": [
       "0    250170\n",
       "1     41505\n",
       "2      9932\n",
       "Name: land_surface_condition, dtype: int64"
      ]
     },
     "execution_count": 23,
     "metadata": {},
     "output_type": "execute_result"
    }
   ],
   "source": [
    "df_train['land_surface_condition'].apply(clear_plinth_area).value_counts()"
   ]
  },
  {
   "cell_type": "code",
   "execution_count": 24,
   "metadata": {},
   "outputs": [],
   "source": [
    "df_train['land_surface_condition'] = df_train['land_surface_condition'].apply(clear_plinth_area)\n",
    "df_test['land_surface_condition'] = df_test['land_surface_condition'].apply(clear_plinth_area)"
   ]
  },
  {
   "attachments": {},
   "cell_type": "markdown",
   "metadata": {},
   "source": [
    "#### type_of_foundation"
   ]
  },
  {
   "cell_type": "code",
   "execution_count": 25,
   "metadata": {},
   "outputs": [
    {
     "data": {
      "text/plain": [
       "array(['bamboo or timber', 'clay sand mixed mortar-stone/brick',\n",
       "       'clay mortar-stone/brick', 'reinforced concrete',\n",
       "       'cement-stone or cement-brick', 'mud mortar-stone/brick',\n",
       "       'bamboo/timber', 'others', 'cement-stone/brick'], dtype=object)"
      ]
     },
     "execution_count": 25,
     "metadata": {},
     "output_type": "execute_result"
    }
   ],
   "source": [
    "df_train['type_of_foundation'].unique()"
   ]
  },
  {
   "cell_type": "code",
   "execution_count": 26,
   "metadata": {},
   "outputs": [
    {
     "data": {
      "text/plain": [
       "clay sand mixed mortar-stone/brick    124529\n",
       "clay mortar-stone/brick                99238\n",
       "mud mortar-stone/brick                 25033\n",
       "bamboo/timber                          13634\n",
       "reinforced concrete                    12709\n",
       "cement-stone or cement-brick           12282\n",
       "bamboo or timber                        9116\n",
       "cement-stone/brick                      3230\n",
       "others                                  1836\n",
       "Name: type_of_foundation, dtype: int64"
      ]
     },
     "execution_count": 26,
     "metadata": {},
     "output_type": "execute_result"
    }
   ],
   "source": [
    "df_train['type_of_foundation'].value_counts()"
   ]
  },
  {
   "cell_type": "code",
   "execution_count": 71,
   "metadata": {},
   "outputs": [],
   "source": [
    "type_of_foundation_dict = {\n",
    "    \"mud mortar-stone/brick\": \"clay mortar-stone/brick\",\n",
    "    \"bamboo/timber\": \"bamboo or timber\",\n",
    "    \"bamboo/timber\": \"bamboo or timber\",\n",
    "    \"rc\": \"reinforced concrete\",\n",
    "    \"others\": \"other\",\n",
    "    \"cement-stone or cement-brick\": \"cement-stone/brick\"\n",
    "}"
   ]
  },
  {
   "cell_type": "code",
   "execution_count": 72,
   "metadata": {},
   "outputs": [],
   "source": [
    "df_train[\"type_of_foundation\"] = df_train[\"type_of_foundation\"].replace(type_of_foundation_dict).str.lower().str.strip()\n",
    "df_test[\"type_of_foundation\"] = df_test[\"type_of_foundation\"].replace(type_of_foundation_dict).str.lower().str.strip()"
   ]
  },
  {
   "attachments": {},
   "cell_type": "markdown",
   "metadata": {},
   "source": [
    "#### type_of_roof"
   ]
  },
  {
   "cell_type": "code",
   "execution_count": 68,
   "metadata": {},
   "outputs": [
    {
     "data": {
      "text/plain": [
       "array(['bamboo or timber light roof',\n",
       "       'wood light roof or bamboo heavy roof',\n",
       "       'wood light roof or bamboo light roof', 'rcc/rb/rbc',\n",
       "       'bamboo/timber heavy roof'], dtype=object)"
      ]
     },
     "execution_count": 68,
     "metadata": {},
     "output_type": "execute_result"
    }
   ],
   "source": [
    "df_train['type_of_roof'].unique()"
   ]
  },
  {
   "cell_type": "code",
   "execution_count": 67,
   "metadata": {},
   "outputs": [],
   "source": [
    "type_of_roof_dict = {\n",
    "    \"bamboo/timber-heavy roof\": \"bamboo/timber heavy roof\",\n",
    "    \"bamboo/timber-light roof\": \"bamboo or timber light roof\",\n",
    "    \"bamboo/timber light roof\": \"bamboo or timber light roof \",\n",
    "    \"reinforced cement concrete/rb/rbc\": \"rcc/rb/rbc\",\n",
    "    \"reinforced brick concrete/rcc/rbc\": \"rcc/rb/rbc\",\n",
    "    \"bamboo or timber heavy roof\": \"bamboo/timber heavy roof\",\n",
    "    \"reinforced brick slab/rcc/rbc\": \"rcc/rb/rbc\",\n",
    "}\n",
    "\n",
    "df_train[\"type_of_roof\"] = df_train[\"type_of_roof\"].replace(type_of_roof_dict).str.strip()\n",
    "df_test[\"type_of_roof\"] = df_test[\"type_of_roof\"].replace(type_of_roof_dict).str.strip()\n"
   ]
  },
  {
   "attachments": {},
   "cell_type": "markdown",
   "metadata": {},
   "source": [
    "#### type_of_ground_floor"
   ]
  },
  {
   "cell_type": "code",
   "execution_count": 75,
   "metadata": {},
   "outputs": [
    {
     "data": {
      "text/plain": [
       "array(['clay', 'mud', 'reinforced concrete', 'brick or stone',\n",
       "       'soil, water, loam mixed', 'other', 'lumber', 'timber', 'wood'],\n",
       "      dtype=object)"
      ]
     },
     "execution_count": 75,
     "metadata": {},
     "output_type": "execute_result"
    }
   ],
   "source": [
    "df_train['type_of_ground_floor'].unique()"
   ]
  },
  {
   "cell_type": "code",
   "execution_count": 76,
   "metadata": {},
   "outputs": [],
   "source": [
    "type_of_ground_floor_dict = {\n",
    "    \"rc\": \"reinforced concrete\",\n",
    "    \"brick/stone\": \"brick or stone\",\n",
    "}\n",
    "\n",
    "df_train[\"type_of_ground_floor\"] = df_train[\"type_of_ground_floor\"].str.lower().replace(type_of_ground_floor_dict)\n",
    "df_test[\"type_of_ground_floor\"] = df_test[\"type_of_ground_floor\"].str.lower().replace(type_of_ground_floor_dict)\n"
   ]
  },
  {
   "cell_type": "code",
   "execution_count": 34,
   "metadata": {},
   "outputs": [
    {
     "data": {
      "text/plain": [
       "array(['clay', 'mud', 'reinforced concrete', 'brick or stone',\n",
       "       'soil, water, loam mixed', 'other', 'lumber', 'timber', 'wood'],\n",
       "      dtype=object)"
      ]
     },
     "execution_count": 34,
     "metadata": {},
     "output_type": "execute_result"
    }
   ],
   "source": [
    "df_train['type_of_ground_floor'].unique()"
   ]
  },
  {
   "attachments": {},
   "cell_type": "markdown",
   "metadata": {},
   "source": [
    "#### position"
   ]
  },
  {
   "cell_type": "code",
   "execution_count": 35,
   "metadata": {},
   "outputs": [
    {
     "data": {
      "text/plain": [
       "Not attached       239044\n",
       "Attached-1 side     51333\n",
       "Attached-2 side     10725\n",
       "Attached-3 side       505\n",
       "Name: position, dtype: int64"
      ]
     },
     "execution_count": 35,
     "metadata": {},
     "output_type": "execute_result"
    }
   ],
   "source": [
    "df_train['position'].value_counts()"
   ]
  },
  {
   "attachments": {},
   "cell_type": "markdown",
   "metadata": {},
   "source": [
    "#### building_plan_configuration"
   ]
  },
  {
   "cell_type": "code",
   "execution_count": 36,
   "metadata": {},
   "outputs": [
    {
     "data": {
      "text/plain": [
       "Rectangular                        289551\n",
       "Square                               6775\n",
       "L-shape                              4016\n",
       "T-shape                               400\n",
       "Multi-projected                       365\n",
       "Others                                203\n",
       "U-shape                               174\n",
       "E-shape                                65\n",
       "Building with Central Courtyard        33\n",
       "H-shape                                25\n",
       "Name: building_plan_configuration, dtype: int64"
      ]
     },
     "execution_count": 36,
     "metadata": {},
     "output_type": "execute_result"
    }
   ],
   "source": [
    "df_train['building_plan_configuration'].value_counts()"
   ]
  },
  {
   "attachments": {},
   "cell_type": "markdown",
   "metadata": {},
   "source": [
    "#### technical_solution_proposed"
   ]
  },
  {
   "cell_type": "code",
   "execution_count": 37,
   "metadata": {},
   "outputs": [
    {
     "data": {
      "text/plain": [
       "Reconstruction    182496\n",
       "Major repair       53633\n",
       "Minor repair       35843\n",
       "No need            29635\n",
       "Name: technical_solution_proposed, dtype: int64"
      ]
     },
     "execution_count": 37,
     "metadata": {},
     "output_type": "execute_result"
    }
   ],
   "source": [
    "df_train['technical_solution_proposed'].value_counts()"
   ]
  },
  {
   "attachments": {},
   "cell_type": "markdown",
   "metadata": {},
   "source": [
    "#### legal_ownership_status"
   ]
  },
  {
   "cell_type": "code",
   "execution_count": 38,
   "metadata": {},
   "outputs": [
    {
     "data": {
      "text/plain": [
       "Private          289344\n",
       "Public             7686\n",
       "Institutional      3085\n",
       "Unknown             902\n",
       "Other               590\n",
       "Name: legal_ownership_status, dtype: int64"
      ]
     },
     "execution_count": 38,
     "metadata": {},
     "output_type": "execute_result"
    }
   ],
   "source": [
    "df_train['legal_ownership_status'].value_counts()"
   ]
  },
  {
   "cell_type": "code",
   "execution_count": 39,
   "metadata": {},
   "outputs": [],
   "source": [
    "legal_ownership_status_dict = {\n",
    "    \"Private\": \"Private\",\n",
    "    \"Private Use\": \"Private\",\n",
    "    \"Prvt\": \"Private\",\n",
    "    \"Privste\": \"Private\",\n",
    "    \"Public Use\": \"Public\",\n",
    "    \"Public Space\": \"Public\",\n",
    "    \"Institutional Use\": \"Institutional\",\n",
    "    \"Institutionals\": \"Institutional\",\n",
    "    \"Unknown\": \"Other\",\n",
    "    \"Unspecified\": \"Other\",\n",
    "}\n",
    "\n",
    "df_train[\"legal_ownership_status\"] = df_train[\"legal_ownership_status\"].str.strip().replace(legal_ownership_status_dict)\n",
    "df_test[\"legal_ownership_status\"] = df_test[\"legal_ownership_status\"].str.strip().replace(legal_ownership_status_dict)\n"
   ]
  },
  {
   "cell_type": "code",
   "execution_count": 40,
   "metadata": {},
   "outputs": [
    {
     "data": {
      "text/plain": [
       "Private          289344\n",
       "Public             7686\n",
       "Institutional      3085\n",
       "Other              1492\n",
       "Name: legal_ownership_status, dtype: int64"
      ]
     },
     "execution_count": 40,
     "metadata": {},
     "output_type": "execute_result"
    }
   ],
   "source": [
    "df_train['legal_ownership_status'].value_counts()"
   ]
  },
  {
   "attachments": {},
   "cell_type": "markdown",
   "metadata": {},
   "source": [
    "#### residential_type"
   ]
  },
  {
   "cell_type": "code",
   "execution_count": 41,
   "metadata": {},
   "outputs": [],
   "source": [
    "df_train[\"residential_type\"] = df_train[\"residential_type\"].replace({\n",
    "    \"Other Residential Type\": \"Other\"\n",
    "})\n",
    "\n",
    "df_test[\"residential_type\"] = df_test[\"residential_type\"].replace({\n",
    "    \"Other Residential Type\": \"Other\"\n",
    "})\n"
   ]
  },
  {
   "attachments": {},
   "cell_type": "markdown",
   "metadata": {},
   "source": [
    "#### no_family_residing"
   ]
  },
  {
   "cell_type": "code",
   "execution_count": 42,
   "metadata": {},
   "outputs": [
    {
     "data": {
      "text/plain": [
       "1.0     254487\n",
       "0.0      28362\n",
       "2.0      15839\n",
       "3.0       2244\n",
       "4.0        502\n",
       "5.0        116\n",
       "6.0         38\n",
       "7.0          9\n",
       "8.0          5\n",
       "9.0          4\n",
       "11.0         1\n",
       "Name: no_family_residing, dtype: int64"
      ]
     },
     "execution_count": 42,
     "metadata": {},
     "output_type": "execute_result"
    }
   ],
   "source": [
    "df_train[\"no_family_residing\"].value_counts()"
   ]
  },
  {
   "cell_type": "code",
   "execution_count": 43,
   "metadata": {},
   "outputs": [],
   "source": [
    "df_train[\"no_family_residing\"] = df_train[\"no_family_residing\"].replace({\n",
    "    \"None\": 0\n",
    "})\n",
    "\n",
    "df_test[\"no_family_residing\"] = df_test[\"no_family_residing\"].replace({\n",
    "    \"None\": 0\n",
    "})"
   ]
  },
  {
   "cell_type": "code",
   "execution_count": 44,
   "metadata": {},
   "outputs": [
    {
     "data": {
      "text/plain": [
       "1.0     254487\n",
       "0.0      28362\n",
       "2.0      15839\n",
       "3.0       2244\n",
       "4.0        502\n",
       "5.0        116\n",
       "6.0         38\n",
       "7.0          9\n",
       "8.0          5\n",
       "9.0          4\n",
       "11.0         1\n",
       "Name: no_family_residing, dtype: int64"
      ]
     },
     "execution_count": 44,
     "metadata": {},
     "output_type": "execute_result"
    }
   ],
   "source": [
    "df_train[\"no_family_residing\"].value_counts()"
   ]
  },
  {
   "attachments": {},
   "cell_type": "markdown",
   "metadata": {},
   "source": [
    "#### public_place_type"
   ]
  },
  {
   "cell_type": "code",
   "execution_count": 45,
   "metadata": {},
   "outputs": [
    {
     "data": {
      "text/plain": [
       "Non-public                      301038\n",
       "Shopping Sites                     106\n",
       "Hospital                            77\n",
       "Religious Sites                     70\n",
       "Drugstore                           63\n",
       "Primary School                      55\n",
       "Other Institutional Building        42\n",
       "High School                         41\n",
       "University                          35\n",
       "Middle School                       32\n",
       "Health Clinics                      20\n",
       "Museum                              18\n",
       "Recreational Park                   10\n",
       "Name: public_place_type, dtype: int64"
      ]
     },
     "execution_count": 45,
     "metadata": {},
     "output_type": "execute_result"
    }
   ],
   "source": [
    "df_train[\"public_place_type\"].value_counts()"
   ]
  },
  {
   "cell_type": "code",
   "execution_count": 46,
   "metadata": {},
   "outputs": [],
   "source": [
    "df_train[\"public_place_type\"] = df_train[\"public_place_type\"].apply(lambda x: \"Public\" if x != \"Non-public\" else \"Non-public\")\n",
    "df_test[\"public_place_type\"] = df_test[\"public_place_type\"].apply(lambda x: \"Public\" if x != \"Non-public\" else \"Non-public\")\n"
   ]
  },
  {
   "cell_type": "code",
   "execution_count": 47,
   "metadata": {},
   "outputs": [
    {
     "data": {
      "text/plain": [
       "Non-public    301038\n",
       "Public           569\n",
       "Name: public_place_type, dtype: int64"
      ]
     },
     "execution_count": 47,
     "metadata": {},
     "output_type": "execute_result"
    }
   ],
   "source": [
    "df_train[\"public_place_type\"].value_counts()"
   ]
  },
  {
   "attachments": {},
   "cell_type": "markdown",
   "metadata": {},
   "source": [
    "#### industrial_use_type"
   ]
  },
  {
   "cell_type": "code",
   "execution_count": 48,
   "metadata": {},
   "outputs": [
    {
     "data": {
      "text/plain": [
       "Non-industrial     279643\n",
       "Food                 9831\n",
       "Service/Tourism      7417\n",
       "Manufacturing        2141\n",
       "Metallurgy           1107\n",
       "Infrastructure       1094\n",
       "Agro                  167\n",
       "Forest-based          122\n",
       "Farm                   85\n",
       "Name: industrial_use_type, dtype: int64"
      ]
     },
     "execution_count": 48,
     "metadata": {},
     "output_type": "execute_result"
    }
   ],
   "source": [
    "df_train[\"industrial_use_type\"].value_counts()"
   ]
  },
  {
   "attachments": {},
   "cell_type": "markdown",
   "metadata": {},
   "source": [
    "#### govermental_use_type"
   ]
  },
  {
   "cell_type": "code",
   "execution_count": 49,
   "metadata": {},
   "outputs": [
    {
     "data": {
      "text/plain": [
       "Non-govermental          301523\n",
       "Police Offices               54\n",
       "Govermental Buildings        30\n",
       "Name: govermental_use_type, dtype: int64"
      ]
     },
     "execution_count": 49,
     "metadata": {},
     "output_type": "execute_result"
    }
   ],
   "source": [
    "df_train[\"govermental_use_type\"].value_counts()"
   ]
  },
  {
   "attachments": {},
   "cell_type": "markdown",
   "metadata": {},
   "source": [
    "#### flexible_superstructure"
   ]
  },
  {
   "cell_type": "code",
   "execution_count": 50,
   "metadata": {},
   "outputs": [
    {
     "data": {
      "text/plain": [
       "unavailable    277406\n",
       "available       24201\n",
       "Name: flexible_superstructure, dtype: int64"
      ]
     },
     "execution_count": 50,
     "metadata": {},
     "output_type": "execute_result"
    }
   ],
   "source": [
    "df_train[\"flexible_superstructure\"].value_counts()"
   ]
  },
  {
   "attachments": {},
   "cell_type": "markdown",
   "metadata": {},
   "source": [
    "#### type_of_other_floor"
   ]
  },
  {
   "cell_type": "code",
   "execution_count": 69,
   "metadata": {},
   "outputs": [],
   "source": [
    "# 0 for traditional 1 for modern\n",
    "type_of_other_floor_dict = {\n",
    "    'timber/bamboo-mud':'timber mud or bamboo-mud',\n",
    "    'wood or bamboo mud':'wood-mud or bamboo mud',\n",
    "    'timber-planck':'wood-plank',\n",
    "    'lumber-plank':'wood-plank',\n",
    "    'reinforced brick concrete/rcc/rbc':'reinforced cement concrete/rb/rbc',\n",
    "    'rcc/rb/rbc':'reinforced cement concrete/rb/rbc',\n",
    "}\n",
    "df_train.type_of_other_floor = df_train.type_of_other_floor.replace(type_of_other_floor_dict)\n",
    "df_test.type_of_other_floor = df_test.type_of_other_floor.replace(type_of_other_floor_dict)"
   ]
  },
  {
   "attachments": {},
   "cell_type": "markdown",
   "metadata": {},
   "source": [
    "### CSV"
   ]
  },
  {
   "cell_type": "code",
   "execution_count": 61,
   "metadata": {},
   "outputs": [
    {
     "data": {
      "text/plain": [
       "bamboo/timber light roof                79640\n",
       "wood light roof or bamboo heavy roof    70095\n",
       "wood light roof or bamboo light roof    59880\n",
       "bamboo/timber-light roof                40081\n",
       "bamboo or timber light roof             19974\n",
       "rcc/rb/rbc                              13868\n",
       "bamboo/timber heavy roof                 8406\n",
       "bamboo/timber-heavy roof                 4225\n",
       "reinforced brick slab/rcc/rbc            2468\n",
       "bamboo or timber heavy roof              1722\n",
       "reinforced brick concrete/rcc/rbc        1248\n",
       "Name: type_of_roof, dtype: int64"
      ]
     },
     "execution_count": 61,
     "metadata": {},
     "output_type": "execute_result"
    }
   ],
   "source": [
    "df_train.type_of_roof.value_counts()"
   ]
  },
  {
   "cell_type": "code",
   "execution_count": 73,
   "metadata": {},
   "outputs": [
    {
     "data": {
      "text/html": [
       "<div>\n",
       "<style scoped>\n",
       "    .dataframe tbody tr th:only-of-type {\n",
       "        vertical-align: middle;\n",
       "    }\n",
       "\n",
       "    .dataframe tbody tr th {\n",
       "        vertical-align: top;\n",
       "    }\n",
       "\n",
       "    .dataframe thead th {\n",
       "        text-align: right;\n",
       "    }\n",
       "</style>\n",
       "<table border=\"1\" class=\"dataframe\">\n",
       "  <thead>\n",
       "    <tr style=\"text-align: right;\">\n",
       "      <th></th>\n",
       "      <th>type_of_foundation</th>\n",
       "      <th>type_of_roof</th>\n",
       "      <th>type_of_ground_floor</th>\n",
       "      <th>type_of_other_floor</th>\n",
       "      <th>position</th>\n",
       "      <th>building_plan_configuration</th>\n",
       "      <th>technical_solution_proposed</th>\n",
       "      <th>legal_ownership_status</th>\n",
       "      <th>type_of_reinforcement_concrete</th>\n",
       "      <th>residential_type</th>\n",
       "      <th>public_place_type</th>\n",
       "      <th>industrial_use_type</th>\n",
       "      <th>govermental_use_type</th>\n",
       "      <th>flexible_superstructure</th>\n",
       "      <th>wall_binding</th>\n",
       "      <th>wall_material</th>\n",
       "    </tr>\n",
       "  </thead>\n",
       "  <tbody>\n",
       "    <tr>\n",
       "      <th>count</th>\n",
       "      <td>301607</td>\n",
       "      <td>301607</td>\n",
       "      <td>301607</td>\n",
       "      <td>301607</td>\n",
       "      <td>301607</td>\n",
       "      <td>301607</td>\n",
       "      <td>301607</td>\n",
       "      <td>301607</td>\n",
       "      <td>301607</td>\n",
       "      <td>301607</td>\n",
       "      <td>301607</td>\n",
       "      <td>301607</td>\n",
       "      <td>301607</td>\n",
       "      <td>301607</td>\n",
       "      <td>301607</td>\n",
       "      <td>301607</td>\n",
       "    </tr>\n",
       "    <tr>\n",
       "      <th>unique</th>\n",
       "      <td>6</td>\n",
       "      <td>5</td>\n",
       "      <td>9</td>\n",
       "      <td>6</td>\n",
       "      <td>4</td>\n",
       "      <td>10</td>\n",
       "      <td>4</td>\n",
       "      <td>4</td>\n",
       "      <td>4</td>\n",
       "      <td>5</td>\n",
       "      <td>2</td>\n",
       "      <td>9</td>\n",
       "      <td>3</td>\n",
       "      <td>2</td>\n",
       "      <td>6</td>\n",
       "      <td>4</td>\n",
       "    </tr>\n",
       "    <tr>\n",
       "      <th>top</th>\n",
       "      <td>clay sand mixed mortar-stone/brick</td>\n",
       "      <td>bamboo or timber light roof</td>\n",
       "      <td>clay</td>\n",
       "      <td>timber mud or bamboo-mud</td>\n",
       "      <td>Not attached</td>\n",
       "      <td>Rectangular</td>\n",
       "      <td>Reconstruction</td>\n",
       "      <td>Private</td>\n",
       "      <td>No reinforcement concrete</td>\n",
       "      <td>Non-residential</td>\n",
       "      <td>Non-public</td>\n",
       "      <td>Non-industrial</td>\n",
       "      <td>Non-govermental</td>\n",
       "      <td>unavailable</td>\n",
       "      <td>Mud + Mortar,Clay</td>\n",
       "      <td>Stone Bricks</td>\n",
       "    </tr>\n",
       "    <tr>\n",
       "      <th>freq</th>\n",
       "      <td>124529</td>\n",
       "      <td>139695</td>\n",
       "      <td>202937</td>\n",
       "      <td>169267</td>\n",
       "      <td>239044</td>\n",
       "      <td>289551</td>\n",
       "      <td>182496</td>\n",
       "      <td>289344</td>\n",
       "      <td>284897</td>\n",
       "      <td>287176</td>\n",
       "      <td>301038</td>\n",
       "      <td>279643</td>\n",
       "      <td>301523</td>\n",
       "      <td>277406</td>\n",
       "      <td>242935</td>\n",
       "      <td>244058</td>\n",
       "    </tr>\n",
       "  </tbody>\n",
       "</table>\n",
       "</div>"
      ],
      "text/plain": [
       "                        type_of_foundation                 type_of_roof  \\\n",
       "count                               301607                       301607   \n",
       "unique                                   6                            5   \n",
       "top     clay sand mixed mortar-stone/brick  bamboo or timber light roof   \n",
       "freq                                124529                       139695   \n",
       "\n",
       "       type_of_ground_floor       type_of_other_floor      position  \\\n",
       "count                301607                    301607        301607   \n",
       "unique                    9                         6             4   \n",
       "top                    clay  timber mud or bamboo-mud  Not attached   \n",
       "freq                 202937                    169267        239044   \n",
       "\n",
       "       building_plan_configuration technical_solution_proposed  \\\n",
       "count                       301607                      301607   \n",
       "unique                          10                           4   \n",
       "top                    Rectangular              Reconstruction   \n",
       "freq                        289551                      182496   \n",
       "\n",
       "       legal_ownership_status type_of_reinforcement_concrete residential_type  \\\n",
       "count                  301607                         301607           301607   \n",
       "unique                      4                              4                5   \n",
       "top                   Private      No reinforcement concrete  Non-residential   \n",
       "freq                   289344                         284897           287176   \n",
       "\n",
       "       public_place_type industrial_use_type govermental_use_type  \\\n",
       "count             301607              301607               301607   \n",
       "unique                 2                   9                    3   \n",
       "top           Non-public      Non-industrial      Non-govermental   \n",
       "freq              301038              279643               301523   \n",
       "\n",
       "       flexible_superstructure       wall_binding wall_material  \n",
       "count                   301607             301607        301607  \n",
       "unique                       2                  6             4  \n",
       "top                unavailable  Mud + Mortar,Clay  Stone Bricks  \n",
       "freq                    277406             242935        244058  "
      ]
     },
     "execution_count": 73,
     "metadata": {},
     "output_type": "execute_result"
    }
   ],
   "source": [
    "df_train.describe(include='O')"
   ]
  },
  {
   "cell_type": "code",
   "execution_count": 74,
   "metadata": {},
   "outputs": [
    {
     "data": {
      "text/html": [
       "<div>\n",
       "<style scoped>\n",
       "    .dataframe tbody tr th:only-of-type {\n",
       "        vertical-align: middle;\n",
       "    }\n",
       "\n",
       "    .dataframe tbody tr th {\n",
       "        vertical-align: top;\n",
       "    }\n",
       "\n",
       "    .dataframe thead th {\n",
       "        text-align: right;\n",
       "    }\n",
       "</style>\n",
       "<table border=\"1\" class=\"dataframe\">\n",
       "  <thead>\n",
       "    <tr style=\"text-align: right;\">\n",
       "      <th></th>\n",
       "      <th>type_of_foundation</th>\n",
       "      <th>type_of_roof</th>\n",
       "      <th>type_of_ground_floor</th>\n",
       "      <th>type_of_other_floor</th>\n",
       "      <th>position</th>\n",
       "      <th>building_plan_configuration</th>\n",
       "      <th>technical_solution_proposed</th>\n",
       "      <th>legal_ownership_status</th>\n",
       "      <th>type_of_reinforcement_concrete</th>\n",
       "      <th>residential_type</th>\n",
       "      <th>public_place_type</th>\n",
       "      <th>industrial_use_type</th>\n",
       "      <th>govermental_use_type</th>\n",
       "      <th>flexible_superstructure</th>\n",
       "      <th>wall_binding</th>\n",
       "      <th>wall_material</th>\n",
       "    </tr>\n",
       "  </thead>\n",
       "  <tbody>\n",
       "    <tr>\n",
       "      <th>count</th>\n",
       "      <td>242082</td>\n",
       "      <td>242082</td>\n",
       "      <td>242082</td>\n",
       "      <td>242082</td>\n",
       "      <td>242082</td>\n",
       "      <td>242082</td>\n",
       "      <td>242082</td>\n",
       "      <td>242082</td>\n",
       "      <td>242082</td>\n",
       "      <td>242082</td>\n",
       "      <td>242082</td>\n",
       "      <td>242082</td>\n",
       "      <td>242082</td>\n",
       "      <td>242082</td>\n",
       "      <td>242082</td>\n",
       "      <td>242082</td>\n",
       "    </tr>\n",
       "    <tr>\n",
       "      <th>unique</th>\n",
       "      <td>6</td>\n",
       "      <td>5</td>\n",
       "      <td>9</td>\n",
       "      <td>6</td>\n",
       "      <td>4</td>\n",
       "      <td>10</td>\n",
       "      <td>4</td>\n",
       "      <td>4</td>\n",
       "      <td>4</td>\n",
       "      <td>5</td>\n",
       "      <td>2</td>\n",
       "      <td>9</td>\n",
       "      <td>3</td>\n",
       "      <td>2</td>\n",
       "      <td>6</td>\n",
       "      <td>4</td>\n",
       "    </tr>\n",
       "    <tr>\n",
       "      <th>top</th>\n",
       "      <td>clay mortar-stone/brick</td>\n",
       "      <td>bamboo or timber light roof</td>\n",
       "      <td>clay</td>\n",
       "      <td>timber mud or bamboo-mud</td>\n",
       "      <td>Not attached</td>\n",
       "      <td>Rectangular</td>\n",
       "      <td>Reconstruction</td>\n",
       "      <td>Private</td>\n",
       "      <td>No reinforcement concrete</td>\n",
       "      <td>Non-residential</td>\n",
       "      <td>Non-public</td>\n",
       "      <td>Non-industrial</td>\n",
       "      <td>Non-govermental</td>\n",
       "      <td>unavailable</td>\n",
       "      <td>Mud + Mortar,Clay</td>\n",
       "      <td>Stone Bricks</td>\n",
       "    </tr>\n",
       "    <tr>\n",
       "      <th>freq</th>\n",
       "      <td>99872</td>\n",
       "      <td>111991</td>\n",
       "      <td>162836</td>\n",
       "      <td>136408</td>\n",
       "      <td>191888</td>\n",
       "      <td>232111</td>\n",
       "      <td>149345</td>\n",
       "      <td>232440</td>\n",
       "      <td>228535</td>\n",
       "      <td>230667</td>\n",
       "      <td>241662</td>\n",
       "      <td>224344</td>\n",
       "      <td>242013</td>\n",
       "      <td>222368</td>\n",
       "      <td>194939</td>\n",
       "      <td>195724</td>\n",
       "    </tr>\n",
       "  </tbody>\n",
       "</table>\n",
       "</div>"
      ],
      "text/plain": [
       "             type_of_foundation                 type_of_roof  \\\n",
       "count                    242082                       242082   \n",
       "unique                        6                            5   \n",
       "top     clay mortar-stone/brick  bamboo or timber light roof   \n",
       "freq                      99872                       111991   \n",
       "\n",
       "       type_of_ground_floor       type_of_other_floor      position  \\\n",
       "count                242082                    242082        242082   \n",
       "unique                    9                         6             4   \n",
       "top                    clay  timber mud or bamboo-mud  Not attached   \n",
       "freq                 162836                    136408        191888   \n",
       "\n",
       "       building_plan_configuration technical_solution_proposed  \\\n",
       "count                       242082                      242082   \n",
       "unique                          10                           4   \n",
       "top                    Rectangular              Reconstruction   \n",
       "freq                        232111                      149345   \n",
       "\n",
       "       legal_ownership_status type_of_reinforcement_concrete residential_type  \\\n",
       "count                  242082                         242082           242082   \n",
       "unique                      4                              4                5   \n",
       "top                   Private      No reinforcement concrete  Non-residential   \n",
       "freq                   232440                         228535           230667   \n",
       "\n",
       "       public_place_type industrial_use_type govermental_use_type  \\\n",
       "count             242082              242082               242082   \n",
       "unique                 2                   9                    3   \n",
       "top           Non-public      Non-industrial      Non-govermental   \n",
       "freq              241662              224344               242013   \n",
       "\n",
       "       flexible_superstructure       wall_binding wall_material  \n",
       "count                   242082             242082        242082  \n",
       "unique                       2                  6             4  \n",
       "top                unavailable  Mud + Mortar,Clay  Stone Bricks  \n",
       "freq                    222368             194939        195724  "
      ]
     },
     "execution_count": 74,
     "metadata": {},
     "output_type": "execute_result"
    }
   ],
   "source": [
    "df_test.describe(include='O')"
   ]
  },
  {
   "cell_type": "code",
   "execution_count": 55,
   "metadata": {},
   "outputs": [],
   "source": [
    "# df_train.drop('Unnamed: 0',axis=1,inplace=True)\n",
    "# df_train.dropna(inplace=True)"
   ]
  },
  {
   "cell_type": "code",
   "execution_count": 56,
   "metadata": {},
   "outputs": [
    {
     "data": {
      "text/plain": [
       "(301607, 25)"
      ]
     },
     "execution_count": 56,
     "metadata": {},
     "output_type": "execute_result"
    }
   ],
   "source": [
    "df_train.shape"
   ]
  },
  {
   "cell_type": "code",
   "execution_count": 77,
   "metadata": {},
   "outputs": [],
   "source": [
    "df_train.to_csv('clear_train_fill.csv',sep=',',index=False)\n",
    "df_test.to_csv('clear_test_fill.csv',sep=',',index=False)"
   ]
  },
  {
   "cell_type": "code",
   "execution_count": 58,
   "metadata": {},
   "outputs": [],
   "source": [
    "# df_train.corr()['damage_grade']"
   ]
  }
 ],
 "metadata": {
  "kernelspec": {
   "display_name": "base",
   "language": "python",
   "name": "python3"
  },
  "language_info": {
   "codemirror_mode": {
    "name": "ipython",
    "version": 3
   },
   "file_extension": ".py",
   "mimetype": "text/x-python",
   "name": "python",
   "nbconvert_exporter": "python",
   "pygments_lexer": "ipython3",
   "version": "3.9.7"
  },
  "orig_nbformat": 4
 },
 "nbformat": 4,
 "nbformat_minor": 2
}
