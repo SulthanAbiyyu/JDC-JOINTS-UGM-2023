{
 "cells": [
  {
   "attachments": {},
   "cell_type": "markdown",
   "metadata": {},
   "source": [
    "## Ide feature extraction\n",
    "\n",
    "1. floor_before_eq -> Structured parse pake LLM\n",
    "2. old_building -> standarisasi?\n",
    "3. plinth_area -> Structured parse pake LLM\n",
    "4. height_before_eq -> standarisasi\n",
    "5. land_surface_condition -> OHE\n",
    "6. type_of_foundation -> OHE\n",
    "7. type_of_roof -> OHE\n",
    "8. type_of_ground_floor -> OHE\n",
    "9. type_of_other_floor -> OHE\n",
    "10. position -> OHE\n",
    "11. building_plan_configuration -> OHE\n",
    "12. technical_solution_proposed -> OHE (aku ga ngerti apa ada pengaruhnya fitur ini dengan damage_grade)\n",
    "13. legal_ownership_status -> benerin dulu, LE\n",
    "14. has_secondary_use -> \n",
    "15. type_of_reinforcement_concrete -> OHE\n",
    "16. residential_type -> OHE\n",
    "17. no_family_residing -> OHE (aku ga ngerti apa ada pengaruhnya fitur ini dengan damage_grade)\n",
    "18. public_place_type -> OHE\n",
    "19. industrial_use_type -> OHE\n",
    "20. govermental_use_type -> OHE\n",
    "21. flexible_superstructure -> OHE\n",
    "22. wall_binding -> OHE\n",
    "23. wall_material -> OHE\n",
    "24. damage_grade -> "
   ]
  },
  {
   "cell_type": "code",
   "execution_count": null,
   "metadata": {},
   "outputs": [],
   "source": []
  }
 ],
 "metadata": {
  "language_info": {
   "name": "python"
  },
  "orig_nbformat": 4
 },
 "nbformat": 4,
 "nbformat_minor": 2
}
